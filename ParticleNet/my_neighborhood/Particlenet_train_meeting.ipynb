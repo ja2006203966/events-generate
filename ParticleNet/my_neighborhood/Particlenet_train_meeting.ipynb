{
 "cells": [
  {
   "cell_type": "code",
   "execution_count": 1,
   "metadata": {},
   "outputs": [
    {
     "name": "stderr",
     "output_type": "stream",
     "text": [
      "Using TensorFlow backend.\n"
     ]
    }
   ],
   "source": [
    "import numpy as np\n",
    "import awkward\n",
    "import logging\n",
    "logging.basicConfig(level=logging.INFO, format='[%(asctime)s] %(levelname)s: %(message)s')\n",
    "import numpy as np\n",
    "import scipy.optimize as opt\n",
    "import sys, os, random, gzip\n",
    "import tensorflow as tf\n",
    "from keras import backend as K\n",
    "from keras.models import *\n",
    "from keras.layers import *\n",
    "from keras.optimizers import Adam\n",
    "from keras.losses import categorical_crossentropy\n",
    "import pandas as pd"
   ]
  },
  {
   "cell_type": "code",
   "execution_count": 4,
   "metadata": {},
   "outputs": [],
   "source": [
    "##========================================================data by pythia\n",
    "\n",
    "_e,_pt,_eta,_phi,_logpt,_loge=0,1,2,3,4,5 ## choose the index you save (same as 2PCNN loading data part)\n",
    "\n",
    "def deltaPhi(phi1,phi2):\n",
    "    x = phi1-phi2\n",
    "    while x>= np.pi: x -= np.pi*2.\n",
    "    while x< -np.pi: x += np.pi*2.\n",
    "    return x\n",
    "\n",
    "def deltaR(eta1,phi1,eta2,phi2):\n",
    "    return (deltaPhi(phi1,phi2)**2+(eta1-eta2)**2)**0.5\n",
    "\n",
    "def find_main_axis(clist):\n",
    "    def fcn(p):\n",
    "        dir_x,dir_y = np.cos(p[0]),np.sin(p[0])\n",
    "        v = clist[(clist[:,_eta]**2+clist[:,_phi]**2)**0.5>1E-5]\n",
    "        cosang = np.abs(dir_x*v[:,_eta]+dir_y*v[:,_phi])/(v[:,_eta]**2+v[:,_phi]**2)**0.5\n",
    "        proj = (v[:,_pt]*cosang).sum()\n",
    "        return -proj\n",
    "    r = opt.minimize(fcn,[0.])\n",
    "    if r.success: return r.x[0]\n",
    "    else: return None\n",
    "def parse_jet_data(fin):\n",
    "    \n",
    "    \n",
    "#     if '<jet_data>' not in fin.readline().decode():\n",
    "#         print(\">>> ERROR: invalid input\", flush=True)\n",
    "#         sys.exit(0)\n",
    "    \n",
    "    data = {}\n",
    "#     features_list = {}\n",
    "    fin.readline().decode().split()\n",
    "    buf = fin.readline().decode().split() # jet kinematics\n",
    "    data['e'] = float(buf[0])\n",
    "    data['pt'] = float(buf[1])\n",
    "    data['eta'] = float(buf[2])\n",
    "    data['phi'] = float(buf[3])\n",
    "    data['nconstituents'] = int(buf[4])\n",
    "    fin.readline().decode().split()\n",
    "    clist, mask, features, points = [],np.zeros((100,1)), np.zeros((100,5)), np.zeros((100,2)) # prepare constituents list\n",
    "    if (data['nconstituents']<=100):\n",
    "        for i in range(data['nconstituents']):  ##particlenet need to be 100\n",
    "            #         _pt,_eta,_phi=1,2,3 #myfile use pt in index 1, eta->2,phi->3\n",
    "            var = [float(s) for s in fin.readline().decode().split()] # index, type(0:gen/1:track/2:Ecal/3:Hcal), pid, charge, pt, eta, phi, vx, vy, vz\n",
    "            var_logpt = np.log(var[_pt])\n",
    "            var_loge = np.log(var[_e])\n",
    "            var[_eta] = var[_eta]-data['eta']\n",
    "            var[_phi] = deltaPhi(var[_phi],data['phi'])\n",
    "            mask[i]=np.array([var_logpt])\n",
    "            features[i]=np.array([var_logpt,var_loge,var[_eta],var[_phi], var[_pt]/data['pt']] ) #last one is my argue\n",
    "            points[i]=np.array([var[_eta],var[_phi] ])#, var[_pt]/data['pt']])\n",
    "    else:\n",
    "        for i in range(data['nconstituents']):\n",
    "            fin.readline().decode().split()\n",
    "       \n",
    "\n",
    "#     clist = np.array(clist)\n",
    "#     features_list['mask']=np.array(mask)\n",
    "#     features_list['points']=np.array(points)\n",
    "#     features_list['features']=np.array(features)\n",
    "#     dir = find_main_axis(clist) ##rotation\n",
    "#     if dir!=None:\n",
    "#         dir = -dir # rotation everything to x-axis\n",
    "#         clist[:,_eta], clist[:,_phi] = np.cos(dir)*clist[:,_eta]-np.sin(dir)*clist[:,_phi], np.sin(dir)*clist[:,_eta]+np.cos(dir)*clist[:,_phi]\n",
    "\n",
    "    \n",
    "    return mask.tolist(), features.tolist(), points.tolist()\n",
    "def prepare(n,fin):\n",
    "    fin=gzip.open(fin)\n",
    "    features_list = {}\n",
    "    mask, features, points = [],[],[]\n",
    "    for i in range(n):\n",
    "        a, b, c = parse_jet_data(fin)\n",
    "        mask.append(a)\n",
    "        features.append(b)\n",
    "        points.append(c)\n",
    "\n",
    "    features_list['mask']=mask\n",
    "    features_list['points']=points\n",
    "    features_list['features']=features\n",
    "    return features_list\n",
    "    \n",
    "def separatedata(features_list,y,rateval,ratetest):\n",
    "    features_train, features_test, features_val={},{},{}\n",
    "    from sklearn.model_selection import train_test_split\n",
    "    mask = features_list[\"mask\"]\n",
    "    features = features_list[\"features\"]\n",
    "    points = features_list[\"points\"]\n",
    "    X_ind = [i for i in range(len(y))]\n",
    "    X_train, X_ind, y_train, y_ind = train_test_split(X_ind, y, test_size=rateval+ratetest)\n",
    "    N=int(len(X_ind)*rateval/(rateval+ratetest))\n",
    "    X_val, X_test = X_ind[:N], X_ind[N:]\n",
    "    y_val, y_test = y_ind[:N], y_ind[N:]\n",
    "    features_train['mask']=np.array([mask[i] for i in X_train])\n",
    "    features_train['features']=np.array([features[i] for i in X_train])\n",
    "    features_train['points']=np.array([points[i] for i in X_train])\n",
    "    \n",
    "    features_test['mask']=np.array([mask[i] for i in X_test])\n",
    "    features_test['features']=np.array([features[i] for i in X_test])\n",
    "    features_test['points']=np.array([points[i] for i in X_test])\n",
    "    \n",
    "    features_val['mask']=np.array([mask[i] for i in X_val])\n",
    "    features_val['features']=np.array([features[i] for i in X_val])\n",
    "    features_val['points']=np.array([points[i] for i in X_val])\n",
    "    \n",
    "    return features_train, features_val, features_test,np.array(y_train), np.array(y_val), np.array(y_test) \n",
    "def merging(gg,qq):\n",
    "    total={}\n",
    "    total['mask']=gg[\"mask\"]+qq[\"mask\"]\n",
    "    total['features']=gg[\"features\"]+qq[\"features\"]\n",
    "    total['points']=gg['points']+qq['points']\n",
    "    return total\n",
    "def input_trans( X_test, y_test):\n",
    "    features_test = {}\n",
    "    \n",
    "    features_test['mask']=np.array([i for i in X_test[\"mask\"]])\n",
    "    features_test['features']=np.array([i for i in X_test[\"features\"]])\n",
    "    features_test['points']=np.array([i for i in X_test[\"points\"]])\n",
    "    return features_test, np.array(y_test) "
   ]
  },
  {
   "cell_type": "code",
   "execution_count": 5,
   "metadata": {},
   "outputs": [],
   "source": [
    "## load data\n",
    "eventg, eventq = './myeventsgg2.txt.gz', './myeventsqq2.txt.gz'\n",
    "n=50000\n",
    "gg = prepare(n,eventg)\n",
    "n=24000\n",
    "qq1 = prepare(n,eventq)\n",
    "eventq = './myeventsqq1.txt.gz'\n",
    "n=26000\n",
    "qq2 = prepare(n,eventq)\n",
    "qq = merging(qq2,qq1)\n",
    "\n",
    "y=[[0,1] for i in range(len(gg['mask']))]+[[1,0] for i in range(len(qq['mask']))] ##?????????????????\n",
    "total = merging(gg,qq)\n",
    "\n",
    "# del gg, qq, eventg, eventq\n",
    "del gg, qq, eventg, eventq, qq1, qq2\n",
    "\n",
    "X_train, X_val, X_test, y_train, y_val, y_test = separatedata(total,y,0.3,0.1)"
   ]
  },
  {
   "cell_type": "code",
   "execution_count": 19,
   "metadata": {},
   "outputs": [],
   "source": [
    "## if you want to use same test data with 2PCNN\n",
    "eventg, eventq = './myeventsgg3.txt.gz', './myeventsqq3.txt.gz'\n",
    "n=5000\n",
    "gg = prepare(n,eventg)\n",
    "qq = prepare(n,eventq)\n",
    "y=[[0,1] for i in range(len(gg['mask']))]+[[1,0] for i in range(len(qq['mask']))] ##?????????????????\n",
    "total = merging(gg,qq)\n",
    "X_test, y_test = input_trans(total,y)"
   ]
  },
  {
   "cell_type": "code",
   "execution_count": 20,
   "metadata": {},
   "outputs": [],
   "source": []
  },
  {
   "cell_type": "code",
   "execution_count": 1,
   "metadata": {},
   "outputs": [],
   "source": [
    "\n",
    "\n",
    "import tensorflow as tf\n",
    "from tensorflow import keras\n",
    "from tf_keras_model import get_particle_net, get_particle_net_lite"
   ]
  },
  {
   "cell_type": "code",
   "execution_count": 2,
   "metadata": {},
   "outputs": [],
   "source": [
    "##self\n",
    "\n",
    "model_type = 'particle_net'\n",
    "input_shapes={'points': (100, 2), 'features': (100, 5), 'mask': (100, 1)}\n",
    "num_classes = 2\n",
    "w =  -1 ## weights you can choose (it is added by myself, and I use the 5-th as the weight term)\n",
    "model = get_particle_net(num_classes, input_shapes, w=w)"
   ]
  },
  {
   "cell_type": "code",
   "execution_count": 27,
   "metadata": {},
   "outputs": [],
   "source": [
    "# Training parameters\n",
    "batch_size = 64 if 'lite' in model_type else 64\n",
    "epochs = 30"
   ]
  },
  {
   "cell_type": "code",
   "execution_count": 28,
   "metadata": {},
   "outputs": [],
   "source": [
    "# def lr_schedule(epoch):\n",
    "#     lr = 1e-3\n",
    "#     if epoch > 10:\n",
    "#         lr *= 0.1\n",
    "#     elif epoch > 20:\n",
    "#         lr *= 0.01\n",
    "#     logging.info('Learning rate: %f'%lr)\n",
    "#     return lr\n",
    "def lr_schedule(epoch):\n",
    "    lr = 2e-1\n",
    "    n = 3\n",
    "    if epoch > 4:\n",
    "        lr *= 1/n\n",
    "    if epoch > 9:\n",
    "        lr *= 1/n\n",
    "    if epoch > 16:\n",
    "        lr *= 1/n\n",
    "    if epoch > 21:\n",
    "        lr *= 1/n\n",
    "    if epoch > 26:\n",
    "        lr *= 1/n\n",
    "    if epoch > 31:\n",
    "        lr *= 1/n\n",
    "    if epoch > 36:\n",
    "        lr *= 1/n\n",
    "    if epoch > 41:\n",
    "        lr *= 1/n\n",
    "    logging.info('Learning rate: %f'%lr)\n",
    "    return lr"
   ]
  },
  {
   "cell_type": "code",
   "execution_count": 29,
   "metadata": {},
   "outputs": [
    {
     "name": "stderr",
     "output_type": "stream",
     "text": [
      "[2020-04-04 10:13:29,732] INFO: Learning rate: 0.200000\n"
     ]
    },
    {
     "name": "stdout",
     "output_type": "stream",
     "text": [
      "Model: \"ParticleNet\"\n",
      "__________________________________________________________________________________________________\n",
      "Layer (type)                    Output Shape         Param #     Connected to                     \n",
      "==================================================================================================\n",
      "features (InputLayer)           [(None, 100, 5)]     0                                            \n",
      "__________________________________________________________________________________________________\n",
      "tf_op_layer_ExpandDims (TensorF [(None, 100, 1, 5)]  0           features[0][0]                   \n",
      "__________________________________________________________________________________________________\n",
      "mask (InputLayer)               [(None, 100, 1)]     0                                            \n",
      "__________________________________________________________________________________________________\n",
      "ParticleNet_fts_bn (BatchNormal (None, 100, 1, 5)    20          tf_op_layer_ExpandDims[0][0]     \n",
      "__________________________________________________________________________________________________\n",
      "tf_op_layer_NotEqual (TensorFlo [(None, 100, 1)]     0           mask[0][0]                       \n",
      "__________________________________________________________________________________________________\n",
      "tf_op_layer_Squeeze (TensorFlow [(None, 100, 5)]     0           ParticleNet_fts_bn[0][0]         \n",
      "__________________________________________________________________________________________________\n",
      "tf_op_layer_Cast (TensorFlowOpL [(None, 100, 1)]     0           tf_op_layer_NotEqual[0][0]       \n",
      "__________________________________________________________________________________________________\n",
      "tf_op_layer_Equal (TensorFlowOp [(None, 100, 1)]     0           tf_op_layer_Cast[0][0]           \n",
      "__________________________________________________________________________________________________\n",
      "tf_op_layer_strided_slice (Tens [(None, 100)]        0           tf_op_layer_Squeeze[0][0]        \n",
      "__________________________________________________________________________________________________\n",
      "tf_op_layer_Cast_1 (TensorFlowO [(None, 100, 1)]     0           tf_op_layer_Equal[0][0]          \n",
      "__________________________________________________________________________________________________\n",
      "tf_op_layer_ExpandDims_1 (Tenso [(None, 100, 1)]     0           tf_op_layer_strided_slice[0][0]  \n",
      "__________________________________________________________________________________________________\n",
      "tf_op_layer_Mul (TensorFlowOpLa [(None, 100, 1)]     0           tf_op_layer_Cast_1[0][0]         \n",
      "__________________________________________________________________________________________________\n",
      "points (InputLayer)             [(None, 100, 2)]     0                                            \n",
      "__________________________________________________________________________________________________\n",
      "tf_op_layer_transpose_2 (Tensor [(None, 1, 100)]     0           tf_op_layer_ExpandDims_1[0][0]   \n",
      "__________________________________________________________________________________________________\n",
      "tf_op_layer_Add (TensorFlowOpLa [(None, 100, 2)]     0           tf_op_layer_Mul[0][0]            \n",
      "                                                                 points[0][0]                     \n",
      "__________________________________________________________________________________________________\n",
      "tf_op_layer_Tile (TensorFlowOpL [(None, 100, 100)]   0           tf_op_layer_ExpandDims_1[0][0]   \n",
      "__________________________________________________________________________________________________\n",
      "tf_op_layer_Tile_1 (TensorFlowO [(None, 100, 100)]   0           tf_op_layer_transpose_2[0][0]    \n",
      "__________________________________________________________________________________________________\n",
      "tf_op_layer_transpose (TensorFl [(None, 2, 100)]     0           tf_op_layer_Add[0][0]            \n",
      "__________________________________________________________________________________________________\n",
      "tf_op_layer_ExpandDims_2 (Tenso [(None, 100, 100, 1) 0           tf_op_layer_Tile[0][0]           \n",
      "__________________________________________________________________________________________________\n",
      "tf_op_layer_ExpandDims_3 (Tenso [(None, 100, 100, 1) 0           tf_op_layer_Tile_1[0][0]         \n",
      "__________________________________________________________________________________________________\n",
      "tf_op_layer_mul_1 (TensorFlowOp [(None, 100, 2)]     0           tf_op_layer_Add[0][0]            \n",
      "                                                                 tf_op_layer_Add[0][0]            \n",
      "__________________________________________________________________________________________________\n",
      "tf_op_layer_MatMul (TensorFlowO [(None, 100, 100)]   0           tf_op_layer_Add[0][0]            \n",
      "                                                                 tf_op_layer_transpose[0][0]      \n",
      "__________________________________________________________________________________________________\n",
      "tf_op_layer_mul_2 (TensorFlowOp [(None, 100, 2)]     0           tf_op_layer_Add[0][0]            \n",
      "                                                                 tf_op_layer_Add[0][0]            \n",
      "__________________________________________________________________________________________________\n",
      "tf_op_layer_concat (TensorFlowO [(None, 100, 100, 2) 0           tf_op_layer_ExpandDims_2[0][0]   \n",
      "                                                                 tf_op_layer_ExpandDims_3[0][0]   \n",
      "__________________________________________________________________________________________________\n",
      "tf_op_layer_Sum (TensorFlowOpLa [(None, 100, 1)]     0           tf_op_layer_mul_1[0][0]          \n",
      "__________________________________________________________________________________________________\n",
      "tf_op_layer_mul_3 (TensorFlowOp [(None, 100, 100)]   0           tf_op_layer_MatMul[0][0]         \n",
      "__________________________________________________________________________________________________\n",
      "tf_op_layer_Sum_1 (TensorFlowOp [(None, 100, 1)]     0           tf_op_layer_mul_2[0][0]          \n",
      "__________________________________________________________________________________________________\n",
      "tf_op_layer_Min (TensorFlowOpLa [(None, 100, 100)]   0           tf_op_layer_concat[0][0]         \n",
      "__________________________________________________________________________________________________\n",
      "tf_op_layer_sub (TensorFlowOpLa [(None, 100, 100)]   0           tf_op_layer_Sum[0][0]            \n",
      "                                                                 tf_op_layer_mul_3[0][0]          \n",
      "__________________________________________________________________________________________________\n",
      "tf_op_layer_transpose_1 (Tensor [(None, 1, 100)]     0           tf_op_layer_Sum_1[0][0]          \n",
      "__________________________________________________________________________________________________\n",
      "tf_op_layer_truediv (TensorFlow [(None, 100, 100)]   0           tf_op_layer_Min[0][0]            \n",
      "__________________________________________________________________________________________________\n",
      "tf_op_layer_add_1 (TensorFlowOp [(None, 100, 100)]   0           tf_op_layer_sub[0][0]            \n",
      "                                                                 tf_op_layer_transpose_1[0][0]    \n",
      "__________________________________________________________________________________________________\n",
      "tf_op_layer_Pow (TensorFlowOpLa [(None, 100, 100)]   0           tf_op_layer_truediv[0][0]        \n",
      "__________________________________________________________________________________________________\n",
      "tf_op_layer_Shape (TensorFlowOp [(3,)]               0           tf_op_layer_Squeeze[0][0]        \n",
      "__________________________________________________________________________________________________\n",
      "tf_op_layer_mul_4 (TensorFlowOp [(None, 100, 100)]   0           tf_op_layer_add_1[0][0]          \n",
      "                                                                 tf_op_layer_Pow[0][0]            \n",
      "__________________________________________________________________________________________________\n",
      "tf_op_layer_strided_slice_2 (Te [()]                 0           tf_op_layer_Shape[0][0]          \n",
      "__________________________________________________________________________________________________\n",
      "tf_op_layer_Neg (TensorFlowOpLa [(None, 100, 100)]   0           tf_op_layer_mul_4[0][0]          \n",
      "__________________________________________________________________________________________________\n",
      "tf_op_layer_range (TensorFlowOp [(None,)]            0           tf_op_layer_strided_slice_2[0][0]\n",
      "__________________________________________________________________________________________________\n",
      "tf_op_layer_TopKV2 (TensorFlowO [(None, 100, 4), (No 0           tf_op_layer_Neg[0][0]            \n",
      "__________________________________________________________________________________________________\n",
      "tf_op_layer_Reshape (TensorFlow [(None, 1, 1, 1)]    0           tf_op_layer_range[0][0]          \n",
      "__________________________________________________________________________________________________\n",
      "tf_op_layer_strided_slice_1 (Te [(None, 100, 3)]     0           tf_op_layer_TopKV2[0][1]         \n",
      "__________________________________________________________________________________________________\n",
      "tf_op_layer_Tile_2 (TensorFlowO [(None, 100, 3, 1)]  0           tf_op_layer_Reshape[0][0]        \n",
      "__________________________________________________________________________________________________\n",
      "tf_op_layer_ExpandDims_4 (Tenso [(None, 100, 3, 1)]  0           tf_op_layer_strided_slice_1[0][0]\n",
      "__________________________________________________________________________________________________\n",
      "tf_op_layer_ExpandDims_5 (Tenso [(None, 100, 1, 5)]  0           tf_op_layer_Squeeze[0][0]        \n",
      "__________________________________________________________________________________________________\n",
      "tf_op_layer_concat_1 (TensorFlo [(None, 100, 3, 2)]  0           tf_op_layer_Tile_2[0][0]         \n",
      "                                                                 tf_op_layer_ExpandDims_4[0][0]   \n",
      "__________________________________________________________________________________________________\n",
      "tf_op_layer_Tile_3 (TensorFlowO [(None, 100, 3, 5)]  0           tf_op_layer_ExpandDims_5[0][0]   \n",
      "__________________________________________________________________________________________________\n",
      "tf_op_layer_GatherNd (TensorFlo [(None, 100, 3, 5)]  0           tf_op_layer_Squeeze[0][0]        \n",
      "                                                                 tf_op_layer_concat_1[0][0]       \n",
      "__________________________________________________________________________________________________\n",
      "tf_op_layer_Sub_1 (TensorFlowOp [(None, 100, 3, 5)]  0           tf_op_layer_GatherNd[0][0]       \n",
      "                                                                 tf_op_layer_Tile_3[0][0]         \n",
      "__________________________________________________________________________________________________\n",
      "tf_op_layer_concat_2 (TensorFlo [(None, 100, 3, 10)] 0           tf_op_layer_Tile_3[0][0]         \n",
      "                                                                 tf_op_layer_Sub_1[0][0]          \n",
      "__________________________________________________________________________________________________\n",
      "ParticleNet_EdgeConv0_conv0 (Co (None, 100, 3, 64)   640         tf_op_layer_concat_2[0][0]       \n",
      "__________________________________________________________________________________________________\n",
      "ParticleNet_EdgeConv0_bn0 (Batc (None, 100, 3, 64)   256         ParticleNet_EdgeConv0_conv0[0][0]\n",
      "__________________________________________________________________________________________________\n",
      "ParticleNet_EdgeConv0_act0 (Act (None, 100, 3, 64)   0           ParticleNet_EdgeConv0_bn0[0][0]  \n",
      "__________________________________________________________________________________________________\n",
      "ParticleNet_EdgeConv0_conv1 (Co (None, 100, 3, 64)   4096        ParticleNet_EdgeConv0_act0[0][0] \n",
      "__________________________________________________________________________________________________\n",
      "ParticleNet_EdgeConv0_bn1 (Batc (None, 100, 3, 64)   256         ParticleNet_EdgeConv0_conv1[0][0]\n",
      "__________________________________________________________________________________________________\n",
      "ParticleNet_EdgeConv0_act1 (Act (None, 100, 3, 64)   0           ParticleNet_EdgeConv0_bn1[0][0]  \n",
      "__________________________________________________________________________________________________\n",
      "tf_op_layer_ExpandDims_6 (Tenso [(None, 100, 1, 5)]  0           tf_op_layer_Squeeze[0][0]        \n",
      "__________________________________________________________________________________________________\n",
      "ParticleNet_EdgeConv0_conv2 (Co (None, 100, 3, 64)   4096        ParticleNet_EdgeConv0_act1[0][0] \n",
      "__________________________________________________________________________________________________\n",
      "ParticleNet_EdgeConv0_sc_conv ( (None, 100, 1, 64)   320         tf_op_layer_ExpandDims_6[0][0]   \n",
      "__________________________________________________________________________________________________\n",
      "ParticleNet_EdgeConv0_bn2 (Batc (None, 100, 3, 64)   256         ParticleNet_EdgeConv0_conv2[0][0]\n",
      "__________________________________________________________________________________________________\n",
      "ParticleNet_EdgeConv0_sc_bn (Ba (None, 100, 1, 64)   256         ParticleNet_EdgeConv0_sc_conv[0][\n",
      "__________________________________________________________________________________________________\n",
      "ParticleNet_EdgeConv0_act2 (Act (None, 100, 3, 64)   0           ParticleNet_EdgeConv0_bn2[0][0]  \n",
      "__________________________________________________________________________________________________\n",
      "tf_op_layer_Squeeze_1 (TensorFl [(None, 100, 64)]    0           ParticleNet_EdgeConv0_sc_bn[0][0]\n",
      "__________________________________________________________________________________________________\n",
      "tf_op_layer_Mean (TensorFlowOpL [(None, 100, 64)]    0           ParticleNet_EdgeConv0_act2[0][0] \n",
      "__________________________________________________________________________________________________\n",
      "tf_op_layer_add_2 (TensorFlowOp [(None, 100, 64)]    0           tf_op_layer_Squeeze_1[0][0]      \n",
      "                                                                 tf_op_layer_Mean[0][0]           \n",
      "__________________________________________________________________________________________________\n",
      "ParticleNet_EdgeConv0_sc_act (A (None, 100, 64)      0           tf_op_layer_add_2[0][0]          \n",
      "__________________________________________________________________________________________________\n",
      "tf_op_layer_strided_slice_3 (Te [(None, 100)]        0           ParticleNet_EdgeConv0_sc_act[0][0\n",
      "__________________________________________________________________________________________________\n",
      "tf_op_layer_ExpandDims_7 (Tenso [(None, 100, 1)]     0           tf_op_layer_strided_slice_3[0][0]\n",
      "__________________________________________________________________________________________________\n",
      "tf_op_layer_transpose_5 (Tensor [(None, 1, 100)]     0           tf_op_layer_ExpandDims_7[0][0]   \n",
      "__________________________________________________________________________________________________\n",
      "tf_op_layer_Add_3 (TensorFlowOp [(None, 100, 64)]    0           tf_op_layer_Mul[0][0]            \n",
      "                                                                 ParticleNet_EdgeConv0_sc_act[0][0\n",
      "__________________________________________________________________________________________________\n",
      "tf_op_layer_Tile_4 (TensorFlowO [(None, 100, 100)]   0           tf_op_layer_ExpandDims_7[0][0]   \n",
      "__________________________________________________________________________________________________\n",
      "tf_op_layer_Tile_5 (TensorFlowO [(None, 100, 100)]   0           tf_op_layer_transpose_5[0][0]    \n",
      "__________________________________________________________________________________________________\n",
      "tf_op_layer_transpose_3 (Tensor [(None, 64, 100)]    0           tf_op_layer_Add_3[0][0]          \n",
      "__________________________________________________________________________________________________\n",
      "tf_op_layer_ExpandDims_8 (Tenso [(None, 100, 100, 1) 0           tf_op_layer_Tile_4[0][0]         \n",
      "__________________________________________________________________________________________________\n",
      "tf_op_layer_ExpandDims_9 (Tenso [(None, 100, 100, 1) 0           tf_op_layer_Tile_5[0][0]         \n",
      "__________________________________________________________________________________________________\n",
      "tf_op_layer_mul_5 (TensorFlowOp [(None, 100, 64)]    0           tf_op_layer_Add_3[0][0]          \n",
      "                                                                 tf_op_layer_Add_3[0][0]          \n",
      "__________________________________________________________________________________________________\n",
      "tf_op_layer_MatMul_1 (TensorFlo [(None, 100, 100)]   0           tf_op_layer_Add_3[0][0]          \n",
      "                                                                 tf_op_layer_transpose_3[0][0]    \n",
      "__________________________________________________________________________________________________\n",
      "tf_op_layer_mul_6 (TensorFlowOp [(None, 100, 64)]    0           tf_op_layer_Add_3[0][0]          \n",
      "                                                                 tf_op_layer_Add_3[0][0]          \n",
      "__________________________________________________________________________________________________\n",
      "tf_op_layer_concat_3 (TensorFlo [(None, 100, 100, 2) 0           tf_op_layer_ExpandDims_8[0][0]   \n",
      "                                                                 tf_op_layer_ExpandDims_9[0][0]   \n",
      "__________________________________________________________________________________________________\n",
      "tf_op_layer_Sum_2 (TensorFlowOp [(None, 100, 1)]     0           tf_op_layer_mul_5[0][0]          \n",
      "__________________________________________________________________________________________________\n",
      "tf_op_layer_mul_7 (TensorFlowOp [(None, 100, 100)]   0           tf_op_layer_MatMul_1[0][0]       \n",
      "__________________________________________________________________________________________________\n",
      "tf_op_layer_Sum_3 (TensorFlowOp [(None, 100, 1)]     0           tf_op_layer_mul_6[0][0]          \n",
      "__________________________________________________________________________________________________\n",
      "tf_op_layer_Min_1 (TensorFlowOp [(None, 100, 100)]   0           tf_op_layer_concat_3[0][0]       \n",
      "__________________________________________________________________________________________________\n",
      "tf_op_layer_sub_2 (TensorFlowOp [(None, 100, 100)]   0           tf_op_layer_Sum_2[0][0]          \n",
      "                                                                 tf_op_layer_mul_7[0][0]          \n",
      "__________________________________________________________________________________________________\n",
      "tf_op_layer_transpose_4 (Tensor [(None, 1, 100)]     0           tf_op_layer_Sum_3[0][0]          \n",
      "__________________________________________________________________________________________________\n",
      "tf_op_layer_truediv_1 (TensorFl [(None, 100, 100)]   0           tf_op_layer_Min_1[0][0]          \n",
      "__________________________________________________________________________________________________\n",
      "tf_op_layer_add_4 (TensorFlowOp [(None, 100, 100)]   0           tf_op_layer_sub_2[0][0]          \n",
      "                                                                 tf_op_layer_transpose_4[0][0]    \n",
      "__________________________________________________________________________________________________\n",
      "tf_op_layer_Pow_1 (TensorFlowOp [(None, 100, 100)]   0           tf_op_layer_truediv_1[0][0]      \n",
      "__________________________________________________________________________________________________\n",
      "tf_op_layer_Shape_1 (TensorFlow [(3,)]               0           ParticleNet_EdgeConv0_sc_act[0][0\n",
      "__________________________________________________________________________________________________\n",
      "tf_op_layer_mul_8 (TensorFlowOp [(None, 100, 100)]   0           tf_op_layer_add_4[0][0]          \n",
      "                                                                 tf_op_layer_Pow_1[0][0]          \n",
      "__________________________________________________________________________________________________\n",
      "tf_op_layer_strided_slice_5 (Te [()]                 0           tf_op_layer_Shape_1[0][0]        \n",
      "__________________________________________________________________________________________________\n",
      "tf_op_layer_Neg_1 (TensorFlowOp [(None, 100, 100)]   0           tf_op_layer_mul_8[0][0]          \n",
      "__________________________________________________________________________________________________\n",
      "tf_op_layer_range_1 (TensorFlow [(None,)]            0           tf_op_layer_strided_slice_5[0][0]\n",
      "__________________________________________________________________________________________________\n",
      "tf_op_layer_TopKV2_1 (TensorFlo [(None, 100, 4), (No 0           tf_op_layer_Neg_1[0][0]          \n",
      "__________________________________________________________________________________________________\n",
      "tf_op_layer_Reshape_1 (TensorFl [(None, 1, 1, 1)]    0           tf_op_layer_range_1[0][0]        \n",
      "__________________________________________________________________________________________________\n",
      "tf_op_layer_strided_slice_4 (Te [(None, 100, 3)]     0           tf_op_layer_TopKV2_1[0][1]       \n",
      "__________________________________________________________________________________________________\n",
      "tf_op_layer_Tile_6 (TensorFlowO [(None, 100, 3, 1)]  0           tf_op_layer_Reshape_1[0][0]      \n",
      "__________________________________________________________________________________________________\n",
      "tf_op_layer_ExpandDims_10 (Tens [(None, 100, 3, 1)]  0           tf_op_layer_strided_slice_4[0][0]\n",
      "__________________________________________________________________________________________________\n",
      "tf_op_layer_ExpandDims_11 (Tens [(None, 100, 1, 64)] 0           ParticleNet_EdgeConv0_sc_act[0][0\n",
      "__________________________________________________________________________________________________\n",
      "tf_op_layer_concat_4 (TensorFlo [(None, 100, 3, 2)]  0           tf_op_layer_Tile_6[0][0]         \n",
      "                                                                 tf_op_layer_ExpandDims_10[0][0]  \n",
      "__________________________________________________________________________________________________\n",
      "tf_op_layer_Tile_7 (TensorFlowO [(None, 100, 3, 64)] 0           tf_op_layer_ExpandDims_11[0][0]  \n",
      "__________________________________________________________________________________________________\n",
      "tf_op_layer_GatherNd_1 (TensorF [(None, 100, 3, 64)] 0           ParticleNet_EdgeConv0_sc_act[0][0\n",
      "                                                                 tf_op_layer_concat_4[0][0]       \n",
      "__________________________________________________________________________________________________\n",
      "tf_op_layer_Sub_3 (TensorFlowOp [(None, 100, 3, 64)] 0           tf_op_layer_GatherNd_1[0][0]     \n",
      "                                                                 tf_op_layer_Tile_7[0][0]         \n",
      "__________________________________________________________________________________________________\n",
      "tf_op_layer_concat_5 (TensorFlo [(None, 100, 3, 128) 0           tf_op_layer_Tile_7[0][0]         \n",
      "                                                                 tf_op_layer_Sub_3[0][0]          \n",
      "__________________________________________________________________________________________________\n",
      "ParticleNet_EdgeConv1_conv0 (Co (None, 100, 3, 64)   8192        tf_op_layer_concat_5[0][0]       \n",
      "__________________________________________________________________________________________________\n",
      "ParticleNet_EdgeConv1_bn0 (Batc (None, 100, 3, 64)   256         ParticleNet_EdgeConv1_conv0[0][0]\n",
      "__________________________________________________________________________________________________\n",
      "ParticleNet_EdgeConv1_act0 (Act (None, 100, 3, 64)   0           ParticleNet_EdgeConv1_bn0[0][0]  \n",
      "__________________________________________________________________________________________________\n",
      "ParticleNet_EdgeConv1_conv1 (Co (None, 100, 3, 64)   4096        ParticleNet_EdgeConv1_act0[0][0] \n",
      "__________________________________________________________________________________________________\n",
      "ParticleNet_EdgeConv1_bn1 (Batc (None, 100, 3, 64)   256         ParticleNet_EdgeConv1_conv1[0][0]\n",
      "__________________________________________________________________________________________________\n",
      "ParticleNet_EdgeConv1_act1 (Act (None, 100, 3, 64)   0           ParticleNet_EdgeConv1_bn1[0][0]  \n",
      "__________________________________________________________________________________________________\n",
      "tf_op_layer_ExpandDims_12 (Tens [(None, 100, 1, 64)] 0           ParticleNet_EdgeConv0_sc_act[0][0\n",
      "__________________________________________________________________________________________________\n",
      "ParticleNet_EdgeConv1_conv2 (Co (None, 100, 3, 64)   4096        ParticleNet_EdgeConv1_act1[0][0] \n",
      "__________________________________________________________________________________________________\n",
      "ParticleNet_EdgeConv1_sc_conv ( (None, 100, 1, 64)   4096        tf_op_layer_ExpandDims_12[0][0]  \n",
      "__________________________________________________________________________________________________\n",
      "ParticleNet_EdgeConv1_bn2 (Batc (None, 100, 3, 64)   256         ParticleNet_EdgeConv1_conv2[0][0]\n",
      "__________________________________________________________________________________________________\n",
      "ParticleNet_EdgeConv1_sc_bn (Ba (None, 100, 1, 64)   256         ParticleNet_EdgeConv1_sc_conv[0][\n",
      "__________________________________________________________________________________________________\n",
      "ParticleNet_EdgeConv1_act2 (Act (None, 100, 3, 64)   0           ParticleNet_EdgeConv1_bn2[0][0]  \n",
      "__________________________________________________________________________________________________\n",
      "tf_op_layer_Squeeze_2 (TensorFl [(None, 100, 64)]    0           ParticleNet_EdgeConv1_sc_bn[0][0]\n",
      "__________________________________________________________________________________________________\n",
      "tf_op_layer_Mean_1 (TensorFlowO [(None, 100, 64)]    0           ParticleNet_EdgeConv1_act2[0][0] \n",
      "__________________________________________________________________________________________________\n",
      "tf_op_layer_add_5 (TensorFlowOp [(None, 100, 64)]    0           tf_op_layer_Squeeze_2[0][0]      \n",
      "                                                                 tf_op_layer_Mean_1[0][0]         \n",
      "__________________________________________________________________________________________________\n",
      "ParticleNet_EdgeConv1_sc_act (A (None, 100, 64)      0           tf_op_layer_add_5[0][0]          \n",
      "__________________________________________________________________________________________________\n",
      "tf_op_layer_strided_slice_6 (Te [(None, 100)]        0           ParticleNet_EdgeConv1_sc_act[0][0\n",
      "__________________________________________________________________________________________________\n",
      "tf_op_layer_ExpandDims_13 (Tens [(None, 100, 1)]     0           tf_op_layer_strided_slice_6[0][0]\n",
      "__________________________________________________________________________________________________\n",
      "tf_op_layer_transpose_8 (Tensor [(None, 1, 100)]     0           tf_op_layer_ExpandDims_13[0][0]  \n",
      "__________________________________________________________________________________________________\n",
      "tf_op_layer_Add_6 (TensorFlowOp [(None, 100, 64)]    0           tf_op_layer_Mul[0][0]            \n",
      "                                                                 ParticleNet_EdgeConv1_sc_act[0][0\n",
      "__________________________________________________________________________________________________\n",
      "tf_op_layer_Tile_8 (TensorFlowO [(None, 100, 100)]   0           tf_op_layer_ExpandDims_13[0][0]  \n",
      "__________________________________________________________________________________________________\n",
      "tf_op_layer_Tile_9 (TensorFlowO [(None, 100, 100)]   0           tf_op_layer_transpose_8[0][0]    \n",
      "__________________________________________________________________________________________________\n",
      "tf_op_layer_transpose_6 (Tensor [(None, 64, 100)]    0           tf_op_layer_Add_6[0][0]          \n",
      "__________________________________________________________________________________________________\n",
      "tf_op_layer_ExpandDims_14 (Tens [(None, 100, 100, 1) 0           tf_op_layer_Tile_8[0][0]         \n",
      "__________________________________________________________________________________________________\n",
      "tf_op_layer_ExpandDims_15 (Tens [(None, 100, 100, 1) 0           tf_op_layer_Tile_9[0][0]         \n",
      "__________________________________________________________________________________________________\n",
      "tf_op_layer_mul_9 (TensorFlowOp [(None, 100, 64)]    0           tf_op_layer_Add_6[0][0]          \n",
      "                                                                 tf_op_layer_Add_6[0][0]          \n",
      "__________________________________________________________________________________________________\n",
      "tf_op_layer_MatMul_2 (TensorFlo [(None, 100, 100)]   0           tf_op_layer_Add_6[0][0]          \n",
      "                                                                 tf_op_layer_transpose_6[0][0]    \n",
      "__________________________________________________________________________________________________\n",
      "tf_op_layer_mul_10 (TensorFlowO [(None, 100, 64)]    0           tf_op_layer_Add_6[0][0]          \n",
      "                                                                 tf_op_layer_Add_6[0][0]          \n",
      "__________________________________________________________________________________________________\n",
      "tf_op_layer_concat_6 (TensorFlo [(None, 100, 100, 2) 0           tf_op_layer_ExpandDims_14[0][0]  \n",
      "                                                                 tf_op_layer_ExpandDims_15[0][0]  \n",
      "__________________________________________________________________________________________________\n",
      "tf_op_layer_Sum_4 (TensorFlowOp [(None, 100, 1)]     0           tf_op_layer_mul_9[0][0]          \n",
      "__________________________________________________________________________________________________\n",
      "tf_op_layer_mul_11 (TensorFlowO [(None, 100, 100)]   0           tf_op_layer_MatMul_2[0][0]       \n",
      "__________________________________________________________________________________________________\n",
      "tf_op_layer_Sum_5 (TensorFlowOp [(None, 100, 1)]     0           tf_op_layer_mul_10[0][0]         \n",
      "__________________________________________________________________________________________________\n",
      "tf_op_layer_Min_2 (TensorFlowOp [(None, 100, 100)]   0           tf_op_layer_concat_6[0][0]       \n",
      "__________________________________________________________________________________________________\n",
      "tf_op_layer_sub_4 (TensorFlowOp [(None, 100, 100)]   0           tf_op_layer_Sum_4[0][0]          \n",
      "                                                                 tf_op_layer_mul_11[0][0]         \n",
      "__________________________________________________________________________________________________\n",
      "tf_op_layer_transpose_7 (Tensor [(None, 1, 100)]     0           tf_op_layer_Sum_5[0][0]          \n",
      "__________________________________________________________________________________________________\n",
      "tf_op_layer_truediv_2 (TensorFl [(None, 100, 100)]   0           tf_op_layer_Min_2[0][0]          \n",
      "__________________________________________________________________________________________________\n",
      "tf_op_layer_add_7 (TensorFlowOp [(None, 100, 100)]   0           tf_op_layer_sub_4[0][0]          \n",
      "                                                                 tf_op_layer_transpose_7[0][0]    \n",
      "__________________________________________________________________________________________________\n",
      "tf_op_layer_Pow_2 (TensorFlowOp [(None, 100, 100)]   0           tf_op_layer_truediv_2[0][0]      \n",
      "__________________________________________________________________________________________________\n",
      "tf_op_layer_Shape_2 (TensorFlow [(3,)]               0           ParticleNet_EdgeConv1_sc_act[0][0\n",
      "__________________________________________________________________________________________________\n",
      "tf_op_layer_mul_12 (TensorFlowO [(None, 100, 100)]   0           tf_op_layer_add_7[0][0]          \n",
      "                                                                 tf_op_layer_Pow_2[0][0]          \n",
      "__________________________________________________________________________________________________\n",
      "tf_op_layer_strided_slice_8 (Te [()]                 0           tf_op_layer_Shape_2[0][0]        \n",
      "__________________________________________________________________________________________________\n",
      "tf_op_layer_Neg_2 (TensorFlowOp [(None, 100, 100)]   0           tf_op_layer_mul_12[0][0]         \n",
      "__________________________________________________________________________________________________\n",
      "tf_op_layer_range_2 (TensorFlow [(None,)]            0           tf_op_layer_strided_slice_8[0][0]\n",
      "__________________________________________________________________________________________________\n",
      "tf_op_layer_TopKV2_2 (TensorFlo [(None, 100, 4), (No 0           tf_op_layer_Neg_2[0][0]          \n",
      "__________________________________________________________________________________________________\n",
      "tf_op_layer_Reshape_2 (TensorFl [(None, 1, 1, 1)]    0           tf_op_layer_range_2[0][0]        \n",
      "__________________________________________________________________________________________________\n",
      "tf_op_layer_strided_slice_7 (Te [(None, 100, 3)]     0           tf_op_layer_TopKV2_2[0][1]       \n",
      "__________________________________________________________________________________________________\n",
      "tf_op_layer_Tile_10 (TensorFlow [(None, 100, 3, 1)]  0           tf_op_layer_Reshape_2[0][0]      \n",
      "__________________________________________________________________________________________________\n",
      "tf_op_layer_ExpandDims_16 (Tens [(None, 100, 3, 1)]  0           tf_op_layer_strided_slice_7[0][0]\n",
      "__________________________________________________________________________________________________\n",
      "tf_op_layer_ExpandDims_17 (Tens [(None, 100, 1, 64)] 0           ParticleNet_EdgeConv1_sc_act[0][0\n",
      "__________________________________________________________________________________________________\n",
      "tf_op_layer_concat_7 (TensorFlo [(None, 100, 3, 2)]  0           tf_op_layer_Tile_10[0][0]        \n",
      "                                                                 tf_op_layer_ExpandDims_16[0][0]  \n",
      "__________________________________________________________________________________________________\n",
      "tf_op_layer_Tile_11 (TensorFlow [(None, 100, 3, 64)] 0           tf_op_layer_ExpandDims_17[0][0]  \n",
      "__________________________________________________________________________________________________\n",
      "tf_op_layer_GatherNd_2 (TensorF [(None, 100, 3, 64)] 0           ParticleNet_EdgeConv1_sc_act[0][0\n",
      "                                                                 tf_op_layer_concat_7[0][0]       \n",
      "__________________________________________________________________________________________________\n",
      "tf_op_layer_Sub_5 (TensorFlowOp [(None, 100, 3, 64)] 0           tf_op_layer_GatherNd_2[0][0]     \n",
      "                                                                 tf_op_layer_Tile_11[0][0]        \n",
      "__________________________________________________________________________________________________\n",
      "tf_op_layer_concat_8 (TensorFlo [(None, 100, 3, 128) 0           tf_op_layer_Tile_11[0][0]        \n",
      "                                                                 tf_op_layer_Sub_5[0][0]          \n",
      "__________________________________________________________________________________________________\n",
      "ParticleNet_EdgeConv2_conv0 (Co (None, 100, 3, 128)  16384       tf_op_layer_concat_8[0][0]       \n",
      "__________________________________________________________________________________________________\n",
      "ParticleNet_EdgeConv2_bn0 (Batc (None, 100, 3, 128)  512         ParticleNet_EdgeConv2_conv0[0][0]\n",
      "__________________________________________________________________________________________________\n",
      "ParticleNet_EdgeConv2_act0 (Act (None, 100, 3, 128)  0           ParticleNet_EdgeConv2_bn0[0][0]  \n",
      "__________________________________________________________________________________________________\n",
      "ParticleNet_EdgeConv2_conv1 (Co (None, 100, 3, 128)  16384       ParticleNet_EdgeConv2_act0[0][0] \n",
      "__________________________________________________________________________________________________\n",
      "ParticleNet_EdgeConv2_bn1 (Batc (None, 100, 3, 128)  512         ParticleNet_EdgeConv2_conv1[0][0]\n",
      "__________________________________________________________________________________________________\n",
      "ParticleNet_EdgeConv2_act1 (Act (None, 100, 3, 128)  0           ParticleNet_EdgeConv2_bn1[0][0]  \n",
      "__________________________________________________________________________________________________\n",
      "tf_op_layer_ExpandDims_18 (Tens [(None, 100, 1, 64)] 0           ParticleNet_EdgeConv1_sc_act[0][0\n",
      "__________________________________________________________________________________________________\n",
      "ParticleNet_EdgeConv2_conv2 (Co (None, 100, 3, 128)  16384       ParticleNet_EdgeConv2_act1[0][0] \n",
      "__________________________________________________________________________________________________\n",
      "ParticleNet_EdgeConv2_sc_conv ( (None, 100, 1, 128)  8192        tf_op_layer_ExpandDims_18[0][0]  \n",
      "__________________________________________________________________________________________________\n",
      "ParticleNet_EdgeConv2_bn2 (Batc (None, 100, 3, 128)  512         ParticleNet_EdgeConv2_conv2[0][0]\n",
      "__________________________________________________________________________________________________\n",
      "ParticleNet_EdgeConv2_sc_bn (Ba (None, 100, 1, 128)  512         ParticleNet_EdgeConv2_sc_conv[0][\n",
      "__________________________________________________________________________________________________\n",
      "ParticleNet_EdgeConv2_act2 (Act (None, 100, 3, 128)  0           ParticleNet_EdgeConv2_bn2[0][0]  \n",
      "__________________________________________________________________________________________________\n",
      "tf_op_layer_Squeeze_3 (TensorFl [(None, 100, 128)]   0           ParticleNet_EdgeConv2_sc_bn[0][0]\n",
      "__________________________________________________________________________________________________\n",
      "tf_op_layer_Mean_2 (TensorFlowO [(None, 100, 128)]   0           ParticleNet_EdgeConv2_act2[0][0] \n",
      "__________________________________________________________________________________________________\n",
      "tf_op_layer_add_8 (TensorFlowOp [(None, 100, 128)]   0           tf_op_layer_Squeeze_3[0][0]      \n",
      "                                                                 tf_op_layer_Mean_2[0][0]         \n",
      "__________________________________________________________________________________________________\n",
      "ParticleNet_EdgeConv2_sc_act (A (None, 100, 128)     0           tf_op_layer_add_8[0][0]          \n",
      "__________________________________________________________________________________________________\n",
      "tf_op_layer_strided_slice_9 (Te [(None, 100)]        0           ParticleNet_EdgeConv2_sc_act[0][0\n",
      "__________________________________________________________________________________________________\n",
      "tf_op_layer_ExpandDims_19 (Tens [(None, 100, 1)]     0           tf_op_layer_strided_slice_9[0][0]\n",
      "__________________________________________________________________________________________________\n",
      "tf_op_layer_transpose_11 (Tenso [(None, 1, 100)]     0           tf_op_layer_ExpandDims_19[0][0]  \n",
      "__________________________________________________________________________________________________\n",
      "tf_op_layer_Add_9 (TensorFlowOp [(None, 100, 128)]   0           tf_op_layer_Mul[0][0]            \n",
      "                                                                 ParticleNet_EdgeConv2_sc_act[0][0\n",
      "__________________________________________________________________________________________________\n",
      "tf_op_layer_Tile_12 (TensorFlow [(None, 100, 100)]   0           tf_op_layer_ExpandDims_19[0][0]  \n",
      "__________________________________________________________________________________________________\n",
      "tf_op_layer_Tile_13 (TensorFlow [(None, 100, 100)]   0           tf_op_layer_transpose_11[0][0]   \n",
      "__________________________________________________________________________________________________\n",
      "tf_op_layer_transpose_9 (Tensor [(None, 128, 100)]   0           tf_op_layer_Add_9[0][0]          \n",
      "__________________________________________________________________________________________________\n",
      "tf_op_layer_ExpandDims_20 (Tens [(None, 100, 100, 1) 0           tf_op_layer_Tile_12[0][0]        \n",
      "__________________________________________________________________________________________________\n",
      "tf_op_layer_ExpandDims_21 (Tens [(None, 100, 100, 1) 0           tf_op_layer_Tile_13[0][0]        \n",
      "__________________________________________________________________________________________________\n",
      "tf_op_layer_mul_13 (TensorFlowO [(None, 100, 128)]   0           tf_op_layer_Add_9[0][0]          \n",
      "                                                                 tf_op_layer_Add_9[0][0]          \n",
      "__________________________________________________________________________________________________\n",
      "tf_op_layer_MatMul_3 (TensorFlo [(None, 100, 100)]   0           tf_op_layer_Add_9[0][0]          \n",
      "                                                                 tf_op_layer_transpose_9[0][0]    \n",
      "__________________________________________________________________________________________________\n",
      "tf_op_layer_mul_14 (TensorFlowO [(None, 100, 128)]   0           tf_op_layer_Add_9[0][0]          \n",
      "                                                                 tf_op_layer_Add_9[0][0]          \n",
      "__________________________________________________________________________________________________\n",
      "tf_op_layer_concat_9 (TensorFlo [(None, 100, 100, 2) 0           tf_op_layer_ExpandDims_20[0][0]  \n",
      "                                                                 tf_op_layer_ExpandDims_21[0][0]  \n",
      "__________________________________________________________________________________________________\n",
      "tf_op_layer_Sum_6 (TensorFlowOp [(None, 100, 1)]     0           tf_op_layer_mul_13[0][0]         \n",
      "__________________________________________________________________________________________________\n",
      "tf_op_layer_mul_15 (TensorFlowO [(None, 100, 100)]   0           tf_op_layer_MatMul_3[0][0]       \n",
      "__________________________________________________________________________________________________\n",
      "tf_op_layer_Sum_7 (TensorFlowOp [(None, 100, 1)]     0           tf_op_layer_mul_14[0][0]         \n",
      "__________________________________________________________________________________________________\n",
      "tf_op_layer_Min_3 (TensorFlowOp [(None, 100, 100)]   0           tf_op_layer_concat_9[0][0]       \n",
      "__________________________________________________________________________________________________\n",
      "tf_op_layer_sub_6 (TensorFlowOp [(None, 100, 100)]   0           tf_op_layer_Sum_6[0][0]          \n",
      "                                                                 tf_op_layer_mul_15[0][0]         \n",
      "__________________________________________________________________________________________________\n",
      "tf_op_layer_transpose_10 (Tenso [(None, 1, 100)]     0           tf_op_layer_Sum_7[0][0]          \n",
      "__________________________________________________________________________________________________\n",
      "tf_op_layer_truediv_3 (TensorFl [(None, 100, 100)]   0           tf_op_layer_Min_3[0][0]          \n",
      "__________________________________________________________________________________________________\n",
      "tf_op_layer_add_10 (TensorFlowO [(None, 100, 100)]   0           tf_op_layer_sub_6[0][0]          \n",
      "                                                                 tf_op_layer_transpose_10[0][0]   \n",
      "__________________________________________________________________________________________________\n",
      "tf_op_layer_Pow_3 (TensorFlowOp [(None, 100, 100)]   0           tf_op_layer_truediv_3[0][0]      \n",
      "__________________________________________________________________________________________________\n",
      "tf_op_layer_Shape_3 (TensorFlow [(3,)]               0           ParticleNet_EdgeConv2_sc_act[0][0\n",
      "__________________________________________________________________________________________________\n",
      "tf_op_layer_mul_16 (TensorFlowO [(None, 100, 100)]   0           tf_op_layer_add_10[0][0]         \n",
      "                                                                 tf_op_layer_Pow_3[0][0]          \n",
      "__________________________________________________________________________________________________\n",
      "tf_op_layer_strided_slice_11 (T [()]                 0           tf_op_layer_Shape_3[0][0]        \n",
      "__________________________________________________________________________________________________\n",
      "tf_op_layer_Neg_3 (TensorFlowOp [(None, 100, 100)]   0           tf_op_layer_mul_16[0][0]         \n",
      "__________________________________________________________________________________________________\n",
      "tf_op_layer_range_3 (TensorFlow [(None,)]            0           tf_op_layer_strided_slice_11[0][0\n",
      "__________________________________________________________________________________________________\n",
      "tf_op_layer_TopKV2_3 (TensorFlo [(None, 100, 4), (No 0           tf_op_layer_Neg_3[0][0]          \n",
      "__________________________________________________________________________________________________\n",
      "tf_op_layer_Reshape_3 (TensorFl [(None, 1, 1, 1)]    0           tf_op_layer_range_3[0][0]        \n",
      "__________________________________________________________________________________________________\n",
      "tf_op_layer_strided_slice_10 (T [(None, 100, 3)]     0           tf_op_layer_TopKV2_3[0][1]       \n",
      "__________________________________________________________________________________________________\n",
      "tf_op_layer_Tile_14 (TensorFlow [(None, 100, 3, 1)]  0           tf_op_layer_Reshape_3[0][0]      \n",
      "__________________________________________________________________________________________________\n",
      "tf_op_layer_ExpandDims_22 (Tens [(None, 100, 3, 1)]  0           tf_op_layer_strided_slice_10[0][0\n",
      "__________________________________________________________________________________________________\n",
      "tf_op_layer_ExpandDims_23 (Tens [(None, 100, 1, 128) 0           ParticleNet_EdgeConv2_sc_act[0][0\n",
      "__________________________________________________________________________________________________\n",
      "tf_op_layer_concat_10 (TensorFl [(None, 100, 3, 2)]  0           tf_op_layer_Tile_14[0][0]        \n",
      "                                                                 tf_op_layer_ExpandDims_22[0][0]  \n",
      "__________________________________________________________________________________________________\n",
      "tf_op_layer_Tile_15 (TensorFlow [(None, 100, 3, 128) 0           tf_op_layer_ExpandDims_23[0][0]  \n",
      "__________________________________________________________________________________________________\n",
      "tf_op_layer_GatherNd_3 (TensorF [(None, 100, 3, 128) 0           ParticleNet_EdgeConv2_sc_act[0][0\n",
      "                                                                 tf_op_layer_concat_10[0][0]      \n",
      "__________________________________________________________________________________________________\n",
      "tf_op_layer_Sub_7 (TensorFlowOp [(None, 100, 3, 128) 0           tf_op_layer_GatherNd_3[0][0]     \n",
      "                                                                 tf_op_layer_Tile_15[0][0]        \n",
      "__________________________________________________________________________________________________\n",
      "tf_op_layer_concat_11 (TensorFl [(None, 100, 3, 256) 0           tf_op_layer_Tile_15[0][0]        \n",
      "                                                                 tf_op_layer_Sub_7[0][0]          \n",
      "__________________________________________________________________________________________________\n",
      "ParticleNet_EdgeConv3_conv0 (Co (None, 100, 3, 128)  32768       tf_op_layer_concat_11[0][0]      \n",
      "__________________________________________________________________________________________________\n",
      "ParticleNet_EdgeConv3_bn0 (Batc (None, 100, 3, 128)  512         ParticleNet_EdgeConv3_conv0[0][0]\n",
      "__________________________________________________________________________________________________\n",
      "ParticleNet_EdgeConv3_act0 (Act (None, 100, 3, 128)  0           ParticleNet_EdgeConv3_bn0[0][0]  \n",
      "__________________________________________________________________________________________________\n",
      "ParticleNet_EdgeConv3_conv1 (Co (None, 100, 3, 128)  16384       ParticleNet_EdgeConv3_act0[0][0] \n",
      "__________________________________________________________________________________________________\n",
      "ParticleNet_EdgeConv3_bn1 (Batc (None, 100, 3, 128)  512         ParticleNet_EdgeConv3_conv1[0][0]\n",
      "__________________________________________________________________________________________________\n",
      "ParticleNet_EdgeConv3_act1 (Act (None, 100, 3, 128)  0           ParticleNet_EdgeConv3_bn1[0][0]  \n",
      "__________________________________________________________________________________________________\n",
      "tf_op_layer_ExpandDims_24 (Tens [(None, 100, 1, 128) 0           ParticleNet_EdgeConv2_sc_act[0][0\n",
      "__________________________________________________________________________________________________\n",
      "ParticleNet_EdgeConv3_conv2 (Co (None, 100, 3, 128)  16384       ParticleNet_EdgeConv3_act1[0][0] \n",
      "__________________________________________________________________________________________________\n",
      "ParticleNet_EdgeConv3_sc_conv ( (None, 100, 1, 128)  16384       tf_op_layer_ExpandDims_24[0][0]  \n",
      "__________________________________________________________________________________________________\n",
      "ParticleNet_EdgeConv3_bn2 (Batc (None, 100, 3, 128)  512         ParticleNet_EdgeConv3_conv2[0][0]\n",
      "__________________________________________________________________________________________________\n",
      "ParticleNet_EdgeConv3_sc_bn (Ba (None, 100, 1, 128)  512         ParticleNet_EdgeConv3_sc_conv[0][\n",
      "__________________________________________________________________________________________________\n",
      "ParticleNet_EdgeConv3_act2 (Act (None, 100, 3, 128)  0           ParticleNet_EdgeConv3_bn2[0][0]  \n",
      "__________________________________________________________________________________________________\n",
      "tf_op_layer_Squeeze_4 (TensorFl [(None, 100, 128)]   0           ParticleNet_EdgeConv3_sc_bn[0][0]\n",
      "__________________________________________________________________________________________________\n",
      "tf_op_layer_Mean_3 (TensorFlowO [(None, 100, 128)]   0           ParticleNet_EdgeConv3_act2[0][0] \n",
      "__________________________________________________________________________________________________\n",
      "tf_op_layer_add_11 (TensorFlowO [(None, 100, 128)]   0           tf_op_layer_Squeeze_4[0][0]      \n",
      "                                                                 tf_op_layer_Mean_3[0][0]         \n",
      "__________________________________________________________________________________________________\n",
      "ParticleNet_EdgeConv3_sc_act (A (None, 100, 128)     0           tf_op_layer_add_11[0][0]         \n",
      "__________________________________________________________________________________________________\n",
      "tf_op_layer_strided_slice_12 (T [(None, 100)]        0           ParticleNet_EdgeConv3_sc_act[0][0\n",
      "__________________________________________________________________________________________________\n",
      "tf_op_layer_ExpandDims_25 (Tens [(None, 100, 1)]     0           tf_op_layer_strided_slice_12[0][0\n",
      "__________________________________________________________________________________________________\n",
      "tf_op_layer_transpose_14 (Tenso [(None, 1, 100)]     0           tf_op_layer_ExpandDims_25[0][0]  \n",
      "__________________________________________________________________________________________________\n",
      "tf_op_layer_Add_12 (TensorFlowO [(None, 100, 128)]   0           tf_op_layer_Mul[0][0]            \n",
      "                                                                 ParticleNet_EdgeConv3_sc_act[0][0\n",
      "__________________________________________________________________________________________________\n",
      "tf_op_layer_Tile_16 (TensorFlow [(None, 100, 100)]   0           tf_op_layer_ExpandDims_25[0][0]  \n",
      "__________________________________________________________________________________________________\n",
      "tf_op_layer_Tile_17 (TensorFlow [(None, 100, 100)]   0           tf_op_layer_transpose_14[0][0]   \n",
      "__________________________________________________________________________________________________\n",
      "tf_op_layer_transpose_12 (Tenso [(None, 128, 100)]   0           tf_op_layer_Add_12[0][0]         \n",
      "__________________________________________________________________________________________________\n",
      "tf_op_layer_ExpandDims_26 (Tens [(None, 100, 100, 1) 0           tf_op_layer_Tile_16[0][0]        \n",
      "__________________________________________________________________________________________________\n",
      "tf_op_layer_ExpandDims_27 (Tens [(None, 100, 100, 1) 0           tf_op_layer_Tile_17[0][0]        \n",
      "__________________________________________________________________________________________________\n",
      "tf_op_layer_mul_17 (TensorFlowO [(None, 100, 128)]   0           tf_op_layer_Add_12[0][0]         \n",
      "                                                                 tf_op_layer_Add_12[0][0]         \n",
      "__________________________________________________________________________________________________\n",
      "tf_op_layer_MatMul_4 (TensorFlo [(None, 100, 100)]   0           tf_op_layer_Add_12[0][0]         \n",
      "                                                                 tf_op_layer_transpose_12[0][0]   \n",
      "__________________________________________________________________________________________________\n",
      "tf_op_layer_mul_18 (TensorFlowO [(None, 100, 128)]   0           tf_op_layer_Add_12[0][0]         \n",
      "                                                                 tf_op_layer_Add_12[0][0]         \n",
      "__________________________________________________________________________________________________\n",
      "tf_op_layer_concat_12 (TensorFl [(None, 100, 100, 2) 0           tf_op_layer_ExpandDims_26[0][0]  \n",
      "                                                                 tf_op_layer_ExpandDims_27[0][0]  \n",
      "__________________________________________________________________________________________________\n",
      "tf_op_layer_Sum_8 (TensorFlowOp [(None, 100, 1)]     0           tf_op_layer_mul_17[0][0]         \n",
      "__________________________________________________________________________________________________\n",
      "tf_op_layer_mul_19 (TensorFlowO [(None, 100, 100)]   0           tf_op_layer_MatMul_4[0][0]       \n",
      "__________________________________________________________________________________________________\n",
      "tf_op_layer_Sum_9 (TensorFlowOp [(None, 100, 1)]     0           tf_op_layer_mul_18[0][0]         \n",
      "__________________________________________________________________________________________________\n",
      "tf_op_layer_Min_4 (TensorFlowOp [(None, 100, 100)]   0           tf_op_layer_concat_12[0][0]      \n",
      "__________________________________________________________________________________________________\n",
      "tf_op_layer_sub_8 (TensorFlowOp [(None, 100, 100)]   0           tf_op_layer_Sum_8[0][0]          \n",
      "                                                                 tf_op_layer_mul_19[0][0]         \n",
      "__________________________________________________________________________________________________\n",
      "tf_op_layer_transpose_13 (Tenso [(None, 1, 100)]     0           tf_op_layer_Sum_9[0][0]          \n",
      "__________________________________________________________________________________________________\n",
      "tf_op_layer_truediv_4 (TensorFl [(None, 100, 100)]   0           tf_op_layer_Min_4[0][0]          \n",
      "__________________________________________________________________________________________________\n",
      "tf_op_layer_add_13 (TensorFlowO [(None, 100, 100)]   0           tf_op_layer_sub_8[0][0]          \n",
      "                                                                 tf_op_layer_transpose_13[0][0]   \n",
      "__________________________________________________________________________________________________\n",
      "tf_op_layer_Pow_4 (TensorFlowOp [(None, 100, 100)]   0           tf_op_layer_truediv_4[0][0]      \n",
      "__________________________________________________________________________________________________\n",
      "tf_op_layer_Shape_4 (TensorFlow [(3,)]               0           ParticleNet_EdgeConv3_sc_act[0][0\n",
      "__________________________________________________________________________________________________\n",
      "tf_op_layer_mul_20 (TensorFlowO [(None, 100, 100)]   0           tf_op_layer_add_13[0][0]         \n",
      "                                                                 tf_op_layer_Pow_4[0][0]          \n",
      "__________________________________________________________________________________________________\n",
      "tf_op_layer_strided_slice_14 (T [()]                 0           tf_op_layer_Shape_4[0][0]        \n",
      "__________________________________________________________________________________________________\n",
      "tf_op_layer_Neg_4 (TensorFlowOp [(None, 100, 100)]   0           tf_op_layer_mul_20[0][0]         \n",
      "__________________________________________________________________________________________________\n",
      "tf_op_layer_range_4 (TensorFlow [(None,)]            0           tf_op_layer_strided_slice_14[0][0\n",
      "__________________________________________________________________________________________________\n",
      "tf_op_layer_TopKV2_4 (TensorFlo [(None, 100, 4), (No 0           tf_op_layer_Neg_4[0][0]          \n",
      "__________________________________________________________________________________________________\n",
      "tf_op_layer_Reshape_4 (TensorFl [(None, 1, 1, 1)]    0           tf_op_layer_range_4[0][0]        \n",
      "__________________________________________________________________________________________________\n",
      "tf_op_layer_strided_slice_13 (T [(None, 100, 3)]     0           tf_op_layer_TopKV2_4[0][1]       \n",
      "__________________________________________________________________________________________________\n",
      "tf_op_layer_Tile_18 (TensorFlow [(None, 100, 3, 1)]  0           tf_op_layer_Reshape_4[0][0]      \n",
      "__________________________________________________________________________________________________\n",
      "tf_op_layer_ExpandDims_28 (Tens [(None, 100, 3, 1)]  0           tf_op_layer_strided_slice_13[0][0\n",
      "__________________________________________________________________________________________________\n",
      "tf_op_layer_ExpandDims_29 (Tens [(None, 100, 1, 128) 0           ParticleNet_EdgeConv3_sc_act[0][0\n",
      "__________________________________________________________________________________________________\n",
      "tf_op_layer_concat_13 (TensorFl [(None, 100, 3, 2)]  0           tf_op_layer_Tile_18[0][0]        \n",
      "                                                                 tf_op_layer_ExpandDims_28[0][0]  \n",
      "__________________________________________________________________________________________________\n",
      "tf_op_layer_Tile_19 (TensorFlow [(None, 100, 3, 128) 0           tf_op_layer_ExpandDims_29[0][0]  \n",
      "__________________________________________________________________________________________________\n",
      "tf_op_layer_GatherNd_4 (TensorF [(None, 100, 3, 128) 0           ParticleNet_EdgeConv3_sc_act[0][0\n",
      "                                                                 tf_op_layer_concat_13[0][0]      \n",
      "__________________________________________________________________________________________________\n",
      "tf_op_layer_Sub_9 (TensorFlowOp [(None, 100, 3, 128) 0           tf_op_layer_GatherNd_4[0][0]     \n",
      "                                                                 tf_op_layer_Tile_19[0][0]        \n",
      "__________________________________________________________________________________________________\n",
      "tf_op_layer_concat_14 (TensorFl [(None, 100, 3, 256) 0           tf_op_layer_Tile_19[0][0]        \n",
      "                                                                 tf_op_layer_Sub_9[0][0]          \n",
      "__________________________________________________________________________________________________\n",
      "ParticleNet_EdgeConv4_conv0 (Co (None, 100, 3, 256)  65536       tf_op_layer_concat_14[0][0]      \n",
      "__________________________________________________________________________________________________\n",
      "ParticleNet_EdgeConv4_bn0 (Batc (None, 100, 3, 256)  1024        ParticleNet_EdgeConv4_conv0[0][0]\n",
      "__________________________________________________________________________________________________\n",
      "ParticleNet_EdgeConv4_act0 (Act (None, 100, 3, 256)  0           ParticleNet_EdgeConv4_bn0[0][0]  \n",
      "__________________________________________________________________________________________________\n",
      "ParticleNet_EdgeConv4_conv1 (Co (None, 100, 3, 256)  65536       ParticleNet_EdgeConv4_act0[0][0] \n",
      "__________________________________________________________________________________________________\n",
      "ParticleNet_EdgeConv4_bn1 (Batc (None, 100, 3, 256)  1024        ParticleNet_EdgeConv4_conv1[0][0]\n",
      "__________________________________________________________________________________________________\n",
      "ParticleNet_EdgeConv4_act1 (Act (None, 100, 3, 256)  0           ParticleNet_EdgeConv4_bn1[0][0]  \n",
      "__________________________________________________________________________________________________\n",
      "tf_op_layer_ExpandDims_30 (Tens [(None, 100, 1, 128) 0           ParticleNet_EdgeConv3_sc_act[0][0\n",
      "__________________________________________________________________________________________________\n",
      "ParticleNet_EdgeConv4_conv2 (Co (None, 100, 3, 256)  65536       ParticleNet_EdgeConv4_act1[0][0] \n",
      "__________________________________________________________________________________________________\n",
      "ParticleNet_EdgeConv4_sc_conv ( (None, 100, 1, 256)  32768       tf_op_layer_ExpandDims_30[0][0]  \n",
      "__________________________________________________________________________________________________\n",
      "ParticleNet_EdgeConv4_bn2 (Batc (None, 100, 3, 256)  1024        ParticleNet_EdgeConv4_conv2[0][0]\n",
      "__________________________________________________________________________________________________\n",
      "ParticleNet_EdgeConv4_sc_bn (Ba (None, 100, 1, 256)  1024        ParticleNet_EdgeConv4_sc_conv[0][\n",
      "__________________________________________________________________________________________________\n",
      "ParticleNet_EdgeConv4_act2 (Act (None, 100, 3, 256)  0           ParticleNet_EdgeConv4_bn2[0][0]  \n",
      "__________________________________________________________________________________________________\n",
      "tf_op_layer_Squeeze_5 (TensorFl [(None, 100, 256)]   0           ParticleNet_EdgeConv4_sc_bn[0][0]\n",
      "__________________________________________________________________________________________________\n",
      "tf_op_layer_Mean_4 (TensorFlowO [(None, 100, 256)]   0           ParticleNet_EdgeConv4_act2[0][0] \n",
      "__________________________________________________________________________________________________\n",
      "tf_op_layer_add_14 (TensorFlowO [(None, 100, 256)]   0           tf_op_layer_Squeeze_5[0][0]      \n",
      "                                                                 tf_op_layer_Mean_4[0][0]         \n",
      "__________________________________________________________________________________________________\n",
      "ParticleNet_EdgeConv4_sc_act (A (None, 100, 256)     0           tf_op_layer_add_14[0][0]         \n",
      "__________________________________________________________________________________________________\n",
      "tf_op_layer_Mul_21 (TensorFlowO [(None, 100, 256)]   0           ParticleNet_EdgeConv4_sc_act[0][0\n",
      "                                                                 tf_op_layer_Cast[0][0]           \n",
      "__________________________________________________________________________________________________\n",
      "tf_op_layer_Mean_5 (TensorFlowO [(None, 256)]        0           tf_op_layer_Mul_21[0][0]         \n",
      "__________________________________________________________________________________________________\n",
      "dense (Dense)                   (None, 256)          65792       tf_op_layer_Mean_5[0][0]         \n",
      "__________________________________________________________________________________________________\n",
      "dropout (Dropout)               (None, 256)          0           dense[0][0]                      \n",
      "__________________________________________________________________________________________________\n",
      "dense_1 (Dense)                 (None, 2)            514         dropout[0][0]                    \n",
      "==================================================================================================\n",
      "Total params: 474,838\n",
      "Trainable params: 469,708\n",
      "Non-trainable params: 5,130\n",
      "__________________________________________________________________________________________________\n"
     ]
    }
   ],
   "source": [
    "model.compile(loss='categorical_crossentropy',\n",
    "              optimizer=keras.optimizers.Adam(learning_rate=lr_schedule(0)),\n",
    "              metrics=['accuracy'])\n",
    "model.summary()"
   ]
  },
  {
   "cell_type": "code",
   "execution_count": 11,
   "metadata": {},
   "outputs": [
    {
     "ename": "ValueError",
     "evalue": "Shapes (5,) and (4,) are incompatible",
     "output_type": "error",
     "traceback": [
      "\u001b[0;31m---------------------------------------------------------------------------\u001b[0m",
      "\u001b[0;31mValueError\u001b[0m                                Traceback (most recent call last)",
      "\u001b[0;32m<ipython-input-11-8bbacc8b5ae3>\u001b[0m in \u001b[0;36m<module>\u001b[0;34m\u001b[0m\n\u001b[1;32m      1\u001b[0m \u001b[0;31m# load model\u001b[0m\u001b[0;34m\u001b[0m\u001b[0;34m\u001b[0m\u001b[0;34m\u001b[0m\u001b[0m\n\u001b[0;32m----> 2\u001b[0;31m \u001b[0mmodel\u001b[0m\u001b[0;34m.\u001b[0m\u001b[0mload_weights\u001b[0m\u001b[0;34m(\u001b[0m\u001b[0;34m'./myplotdata/5/my_ParticleNet.h5'\u001b[0m\u001b[0;34m)\u001b[0m\u001b[0;34m\u001b[0m\u001b[0;34m\u001b[0m\u001b[0m\n\u001b[0m",
      "\u001b[0;32m/usr/local/lib/python3.6/dist-packages/tensorflow_core/python/keras/engine/training.py\u001b[0m in \u001b[0;36mload_weights\u001b[0;34m(self, filepath, by_name)\u001b[0m\n\u001b[1;32m    179\u001b[0m         raise ValueError('Load weights is not yet supported with TPUStrategy '\n\u001b[1;32m    180\u001b[0m                          'with steps_per_run greater than 1.')\n\u001b[0;32m--> 181\u001b[0;31m     \u001b[0;32mreturn\u001b[0m \u001b[0msuper\u001b[0m\u001b[0;34m(\u001b[0m\u001b[0mModel\u001b[0m\u001b[0;34m,\u001b[0m \u001b[0mself\u001b[0m\u001b[0;34m)\u001b[0m\u001b[0;34m.\u001b[0m\u001b[0mload_weights\u001b[0m\u001b[0;34m(\u001b[0m\u001b[0mfilepath\u001b[0m\u001b[0;34m,\u001b[0m \u001b[0mby_name\u001b[0m\u001b[0;34m)\u001b[0m\u001b[0;34m\u001b[0m\u001b[0;34m\u001b[0m\u001b[0m\n\u001b[0m\u001b[1;32m    182\u001b[0m \u001b[0;34m\u001b[0m\u001b[0m\n\u001b[1;32m    183\u001b[0m   \u001b[0;34m@\u001b[0m\u001b[0mtrackable\u001b[0m\u001b[0;34m.\u001b[0m\u001b[0mno_automatic_dependency_tracking\u001b[0m\u001b[0;34m\u001b[0m\u001b[0;34m\u001b[0m\u001b[0m\n",
      "\u001b[0;32m/usr/local/lib/python3.6/dist-packages/tensorflow_core/python/keras/engine/network.py\u001b[0m in \u001b[0;36mload_weights\u001b[0;34m(self, filepath, by_name)\u001b[0m\n\u001b[1;32m   1175\u001b[0m         \u001b[0msaving\u001b[0m\u001b[0;34m.\u001b[0m\u001b[0mload_weights_from_hdf5_group_by_name\u001b[0m\u001b[0;34m(\u001b[0m\u001b[0mf\u001b[0m\u001b[0;34m,\u001b[0m \u001b[0mself\u001b[0m\u001b[0;34m.\u001b[0m\u001b[0mlayers\u001b[0m\u001b[0;34m)\u001b[0m\u001b[0;34m\u001b[0m\u001b[0;34m\u001b[0m\u001b[0m\n\u001b[1;32m   1176\u001b[0m       \u001b[0;32melse\u001b[0m\u001b[0;34m:\u001b[0m\u001b[0;34m\u001b[0m\u001b[0;34m\u001b[0m\u001b[0m\n\u001b[0;32m-> 1177\u001b[0;31m         \u001b[0msaving\u001b[0m\u001b[0;34m.\u001b[0m\u001b[0mload_weights_from_hdf5_group\u001b[0m\u001b[0;34m(\u001b[0m\u001b[0mf\u001b[0m\u001b[0;34m,\u001b[0m \u001b[0mself\u001b[0m\u001b[0;34m.\u001b[0m\u001b[0mlayers\u001b[0m\u001b[0;34m)\u001b[0m\u001b[0;34m\u001b[0m\u001b[0;34m\u001b[0m\u001b[0m\n\u001b[0m\u001b[1;32m   1178\u001b[0m \u001b[0;34m\u001b[0m\u001b[0m\n\u001b[1;32m   1179\u001b[0m   \u001b[0;32mdef\u001b[0m \u001b[0m_updated_config\u001b[0m\u001b[0;34m(\u001b[0m\u001b[0mself\u001b[0m\u001b[0;34m)\u001b[0m\u001b[0;34m:\u001b[0m\u001b[0;34m\u001b[0m\u001b[0;34m\u001b[0m\u001b[0m\n",
      "\u001b[0;32m/usr/local/lib/python3.6/dist-packages/tensorflow_core/python/keras/saving/hdf5_format.py\u001b[0m in \u001b[0;36mload_weights_from_hdf5_group\u001b[0;34m(f, layers)\u001b[0m\n\u001b[1;32m    697\u001b[0m                        str(len(weight_values)) + ' elements.')\n\u001b[1;32m    698\u001b[0m     \u001b[0mweight_value_tuples\u001b[0m \u001b[0;34m+=\u001b[0m \u001b[0mzip\u001b[0m\u001b[0;34m(\u001b[0m\u001b[0msymbolic_weights\u001b[0m\u001b[0;34m,\u001b[0m \u001b[0mweight_values\u001b[0m\u001b[0;34m)\u001b[0m\u001b[0;34m\u001b[0m\u001b[0;34m\u001b[0m\u001b[0m\n\u001b[0;32m--> 699\u001b[0;31m   \u001b[0mK\u001b[0m\u001b[0;34m.\u001b[0m\u001b[0mbatch_set_value\u001b[0m\u001b[0;34m(\u001b[0m\u001b[0mweight_value_tuples\u001b[0m\u001b[0;34m)\u001b[0m\u001b[0;34m\u001b[0m\u001b[0;34m\u001b[0m\u001b[0m\n\u001b[0m\u001b[1;32m    700\u001b[0m \u001b[0;34m\u001b[0m\u001b[0m\n\u001b[1;32m    701\u001b[0m \u001b[0;34m\u001b[0m\u001b[0m\n",
      "\u001b[0;32m/usr/local/lib/python3.6/dist-packages/tensorflow_core/python/keras/backend.py\u001b[0m in \u001b[0;36mbatch_set_value\u001b[0;34m(tuples)\u001b[0m\n\u001b[1;32m   3341\u001b[0m     \u001b[0;32mwith\u001b[0m \u001b[0mops\u001b[0m\u001b[0;34m.\u001b[0m\u001b[0minit_scope\u001b[0m\u001b[0;34m(\u001b[0m\u001b[0;34m)\u001b[0m\u001b[0;34m:\u001b[0m\u001b[0;34m\u001b[0m\u001b[0;34m\u001b[0m\u001b[0m\n\u001b[1;32m   3342\u001b[0m       \u001b[0;32mfor\u001b[0m \u001b[0mx\u001b[0m\u001b[0;34m,\u001b[0m \u001b[0mvalue\u001b[0m \u001b[0;32min\u001b[0m \u001b[0mtuples\u001b[0m\u001b[0;34m:\u001b[0m\u001b[0;34m\u001b[0m\u001b[0;34m\u001b[0m\u001b[0m\n\u001b[0;32m-> 3343\u001b[0;31m         \u001b[0mx\u001b[0m\u001b[0;34m.\u001b[0m\u001b[0massign\u001b[0m\u001b[0;34m(\u001b[0m\u001b[0mnp\u001b[0m\u001b[0;34m.\u001b[0m\u001b[0masarray\u001b[0m\u001b[0;34m(\u001b[0m\u001b[0mvalue\u001b[0m\u001b[0;34m,\u001b[0m \u001b[0mdtype\u001b[0m\u001b[0;34m=\u001b[0m\u001b[0mdtype\u001b[0m\u001b[0;34m(\u001b[0m\u001b[0mx\u001b[0m\u001b[0;34m)\u001b[0m\u001b[0;34m)\u001b[0m\u001b[0;34m)\u001b[0m\u001b[0;34m\u001b[0m\u001b[0;34m\u001b[0m\u001b[0m\n\u001b[0m\u001b[1;32m   3344\u001b[0m   \u001b[0;32melse\u001b[0m\u001b[0;34m:\u001b[0m\u001b[0;34m\u001b[0m\u001b[0;34m\u001b[0m\u001b[0m\n\u001b[1;32m   3345\u001b[0m     \u001b[0;32mwith\u001b[0m \u001b[0mget_graph\u001b[0m\u001b[0;34m(\u001b[0m\u001b[0;34m)\u001b[0m\u001b[0;34m.\u001b[0m\u001b[0mas_default\u001b[0m\u001b[0;34m(\u001b[0m\u001b[0;34m)\u001b[0m\u001b[0;34m:\u001b[0m\u001b[0;34m\u001b[0m\u001b[0;34m\u001b[0m\u001b[0m\n",
      "\u001b[0;32m/usr/local/lib/python3.6/dist-packages/tensorflow_core/python/ops/resource_variable_ops.py\u001b[0m in \u001b[0;36massign\u001b[0;34m(self, value, use_locking, name, read_value)\u001b[0m\n\u001b[1;32m    812\u001b[0m     \u001b[0;32mwith\u001b[0m \u001b[0m_handle_graph\u001b[0m\u001b[0;34m(\u001b[0m\u001b[0mself\u001b[0m\u001b[0;34m.\u001b[0m\u001b[0mhandle\u001b[0m\u001b[0;34m)\u001b[0m\u001b[0;34m:\u001b[0m\u001b[0;34m\u001b[0m\u001b[0;34m\u001b[0m\u001b[0m\n\u001b[1;32m    813\u001b[0m       \u001b[0mvalue_tensor\u001b[0m \u001b[0;34m=\u001b[0m \u001b[0mops\u001b[0m\u001b[0;34m.\u001b[0m\u001b[0mconvert_to_tensor\u001b[0m\u001b[0;34m(\u001b[0m\u001b[0mvalue\u001b[0m\u001b[0;34m,\u001b[0m \u001b[0mdtype\u001b[0m\u001b[0;34m=\u001b[0m\u001b[0mself\u001b[0m\u001b[0;34m.\u001b[0m\u001b[0mdtype\u001b[0m\u001b[0;34m)\u001b[0m\u001b[0;34m\u001b[0m\u001b[0;34m\u001b[0m\u001b[0m\n\u001b[0;32m--> 814\u001b[0;31m       \u001b[0mself\u001b[0m\u001b[0;34m.\u001b[0m\u001b[0m_shape\u001b[0m\u001b[0;34m.\u001b[0m\u001b[0massert_is_compatible_with\u001b[0m\u001b[0;34m(\u001b[0m\u001b[0mvalue_tensor\u001b[0m\u001b[0;34m.\u001b[0m\u001b[0mshape\u001b[0m\u001b[0;34m)\u001b[0m\u001b[0;34m\u001b[0m\u001b[0;34m\u001b[0m\u001b[0m\n\u001b[0m\u001b[1;32m    815\u001b[0m       assign_op = gen_resource_variable_ops.assign_variable_op(\n\u001b[1;32m    816\u001b[0m           self.handle, value_tensor, name=name)\n",
      "\u001b[0;32m/usr/local/lib/python3.6/dist-packages/tensorflow_core/python/framework/tensor_shape.py\u001b[0m in \u001b[0;36massert_is_compatible_with\u001b[0;34m(self, other)\u001b[0m\n\u001b[1;32m   1113\u001b[0m     \"\"\"\n\u001b[1;32m   1114\u001b[0m     \u001b[0;32mif\u001b[0m \u001b[0;32mnot\u001b[0m \u001b[0mself\u001b[0m\u001b[0;34m.\u001b[0m\u001b[0mis_compatible_with\u001b[0m\u001b[0;34m(\u001b[0m\u001b[0mother\u001b[0m\u001b[0;34m)\u001b[0m\u001b[0;34m:\u001b[0m\u001b[0;34m\u001b[0m\u001b[0;34m\u001b[0m\u001b[0m\n\u001b[0;32m-> 1115\u001b[0;31m       \u001b[0;32mraise\u001b[0m \u001b[0mValueError\u001b[0m\u001b[0;34m(\u001b[0m\u001b[0;34m\"Shapes %s and %s are incompatible\"\u001b[0m \u001b[0;34m%\u001b[0m \u001b[0;34m(\u001b[0m\u001b[0mself\u001b[0m\u001b[0;34m,\u001b[0m \u001b[0mother\u001b[0m\u001b[0;34m)\u001b[0m\u001b[0;34m)\u001b[0m\u001b[0;34m\u001b[0m\u001b[0;34m\u001b[0m\u001b[0m\n\u001b[0m\u001b[1;32m   1116\u001b[0m \u001b[0;34m\u001b[0m\u001b[0m\n\u001b[1;32m   1117\u001b[0m   \u001b[0;32mdef\u001b[0m \u001b[0mmost_specific_compatible_shape\u001b[0m\u001b[0;34m(\u001b[0m\u001b[0mself\u001b[0m\u001b[0;34m,\u001b[0m \u001b[0mother\u001b[0m\u001b[0;34m)\u001b[0m\u001b[0;34m:\u001b[0m\u001b[0;34m\u001b[0m\u001b[0;34m\u001b[0m\u001b[0m\n",
      "\u001b[0;31mValueError\u001b[0m: Shapes (5,) and (4,) are incompatible"
     ]
    }
   ],
   "source": [
    "# load model\n",
    "model.load_weights('./my_ParticleNet.h5')"
   ]
  },
  {
   "cell_type": "code",
   "execution_count": 30,
   "metadata": {},
   "outputs": [],
   "source": [
    "# Prepare model model saving directory.\n",
    "import os\n",
    "save_dir = './model_checkpoints'\n",
    "model_name = '%s_model.test.h5' % model_type\n",
    "if not os.path.isdir(save_dir):\n",
    "    os.makedirs(save_dir)\n",
    "filepath = os.path.join(save_dir, model_name)\n",
    "\n",
    "# Prepare callbacks for model saving and for learning rate adjustment.\n",
    "checkpoint = keras.callbacks.ModelCheckpoint(filepath=filepath,\n",
    "                             monitor='val_acc',\n",
    "                             verbose=1,\n",
    "                             save_best_only=True)\n",
    "\n",
    "lr_scheduler = keras.callbacks.LearningRateScheduler(lr_schedule)\n",
    "progress_bar = keras.callbacks.ProgbarLogger()\n",
    "csv_logger = keras.callbacks.CSVLogger('./myparticlenet_training_log.csv')\n",
    "earlystop = tf.keras.callbacks.EarlyStopping(\n",
    "                            monitor='val_loss',\n",
    "                            min_delta=0,\n",
    "                            patience=50,\n",
    "                            verbose=1,\n",
    "                            mode='min', baseline=None,\n",
    "                            restore_best_weights=True)\n",
    "# callbacks = [checkpoint, lr_scheduler, progress_bar]\n",
    "callbacks = [checkpoint, lr_scheduler, csv_logger, progress_bar, earlystop ]\n",
    "### Add checkpoints\n",
    "##########################################################################################################\n",
    "# check_list=[]\n",
    "# checkpoint = tf.keras.callbacks.ModelCheckpoint (monitor='val_loss',\n",
    "#                              filepath='./mymodel.h5',\n",
    "#                              save_best_only=True,\n",
    "#                              verbose=1)\n",
    "# earlystop = tf.keras.callbacks.EarlyStopping(\n",
    "#                             monitor='val_loss',\n",
    "#                             min_delta=0,\n",
    "#                             patience=50,\n",
    "#                             verbose=1,\n",
    "#                             mode='min', baseline=None,\n",
    "#                             restore_best_weights=True)\n",
    "\n",
    "# csv_logger = tf.keras.callbacks.CSVLogger('./training_log.csv')\n",
    "# check_list.append(checkpoint)\n",
    "# check_list.append(earlystop)\n",
    "# check_list.append(csv_logger)\n",
    "##########################################################################################################"
   ]
  },
  {
   "cell_type": "code",
   "execution_count": null,
   "metadata": {},
   "outputs": [],
   "source": []
  },
  {
   "cell_type": "code",
   "execution_count": null,
   "metadata": {},
   "outputs": [],
   "source": []
  },
  {
   "cell_type": "code",
   "execution_count": 31,
   "metadata": {},
   "outputs": [
    {
     "name": "stderr",
     "output_type": "stream",
     "text": [
      "[2020-04-04 10:13:35,546] INFO: Learning rate: 0.200000\n"
     ]
    },
    {
     "name": "stdout",
     "output_type": "stream",
     "text": [
      "Train on 60000 samples, validate on 30000 samples\n",
      "Epoch 1/60\n",
      "Epoch 1/60\n",
      "59968/60000 [============================>.] - ETA: 0s - loss: 0.5381 - accuracy: 0.7511WARNING:tensorflow:Can save best model only with val_acc available, skipping.\n"
     ]
    },
    {
     "name": "stderr",
     "output_type": "stream",
     "text": [
      "[2020-04-04 10:15:00,223] WARNING: Can save best model only with val_acc available, skipping.\n"
     ]
    },
    {
     "name": "stdout",
     "output_type": "stream",
     "text": [
      "60000/60000 [==============================] - 85s 1ms/sample - loss: 0.5381 - accuracy: 0.7511 - val_loss: 0.4873 - val_accuracy: 0.7895\n",
      "60000/60000 [==============================] - 85s 1ms/sample - loss: 0.5381 - accuracy: 0.7511 - val_loss: 0.4873 - val_accuracy: 0.7895\n"
     ]
    },
    {
     "name": "stderr",
     "output_type": "stream",
     "text": [
      "[2020-04-04 10:15:00,277] INFO: Learning rate: 0.200000\n"
     ]
    },
    {
     "name": "stdout",
     "output_type": "stream",
     "text": [
      "Epoch 2/60\n",
      "Epoch 2/60\n",
      "59968/60000 [============================>.] - ETA: 0s - loss: 0.5422 - accuracy: 0.7473WARNING:tensorflow:Can save best model only with val_acc available, skipping.\n"
     ]
    },
    {
     "name": "stderr",
     "output_type": "stream",
     "text": [
      "[2020-04-04 10:16:20,090] WARNING: Can save best model only with val_acc available, skipping.\n"
     ]
    },
    {
     "name": "stdout",
     "output_type": "stream",
     "text": [
      "60000/60000 [==============================] - 80s 1ms/sample - loss: 0.5421 - accuracy: 0.7473 - val_loss: 0.4774 - val_accuracy: 0.7919\n",
      "60000/60000 [==============================] - 80s 1ms/sample - loss: 0.5421 - accuracy: 0.7473 - val_loss: 0.4774 - val_accuracy: 0.7919\n"
     ]
    },
    {
     "name": "stderr",
     "output_type": "stream",
     "text": [
      "[2020-04-04 10:16:20,144] INFO: Learning rate: 0.200000\n"
     ]
    },
    {
     "name": "stdout",
     "output_type": "stream",
     "text": [
      "Epoch 3/60\n",
      "Epoch 3/60\n",
      "59968/60000 [============================>.] - ETA: 0s - loss: 0.5263 - accuracy: 0.7596WARNING:tensorflow:Can save best model only with val_acc available, skipping.\n"
     ]
    },
    {
     "name": "stderr",
     "output_type": "stream",
     "text": [
      "[2020-04-04 10:17:39,979] WARNING: Can save best model only with val_acc available, skipping.\n"
     ]
    },
    {
     "name": "stdout",
     "output_type": "stream",
     "text": [
      "60000/60000 [==============================] - 80s 1ms/sample - loss: 0.5263 - accuracy: 0.7597 - val_loss: 0.4777 - val_accuracy: 0.7855\n",
      "60000/60000 [==============================] - 80s 1ms/sample - loss: 0.5263 - accuracy: 0.7597 - val_loss: 0.4777 - val_accuracy: 0.7855\n"
     ]
    },
    {
     "name": "stderr",
     "output_type": "stream",
     "text": [
      "[2020-04-04 10:17:39,985] INFO: Learning rate: 0.200000\n"
     ]
    },
    {
     "name": "stdout",
     "output_type": "stream",
     "text": [
      "Epoch 4/60\n",
      "Epoch 4/60\n",
      "59968/60000 [============================>.] - ETA: 0s - loss: 0.5319 - accuracy: 0.7559WARNING:tensorflow:Can save best model only with val_acc available, skipping.\n"
     ]
    },
    {
     "name": "stderr",
     "output_type": "stream",
     "text": [
      "[2020-04-04 10:18:59,744] WARNING: Can save best model only with val_acc available, skipping.\n"
     ]
    },
    {
     "name": "stdout",
     "output_type": "stream",
     "text": [
      "60000/60000 [==============================] - 80s 1ms/sample - loss: 0.5319 - accuracy: 0.7559 - val_loss: 0.4799 - val_accuracy: 0.7909\n",
      "60000/60000 [==============================] - 80s 1ms/sample - loss: 0.5319 - accuracy: 0.7559 - val_loss: 0.4799 - val_accuracy: 0.7909\n"
     ]
    },
    {
     "name": "stderr",
     "output_type": "stream",
     "text": [
      "[2020-04-04 10:18:59,750] INFO: Learning rate: 0.200000\n"
     ]
    },
    {
     "name": "stdout",
     "output_type": "stream",
     "text": [
      "Epoch 5/60\n",
      "Epoch 5/60\n",
      "59968/60000 [============================>.] - ETA: 0s - loss: 0.5363 - accuracy: 0.7528WARNING:tensorflow:Can save best model only with val_acc available, skipping.\n"
     ]
    },
    {
     "name": "stderr",
     "output_type": "stream",
     "text": [
      "[2020-04-04 10:20:19,629] WARNING: Can save best model only with val_acc available, skipping.\n"
     ]
    },
    {
     "name": "stdout",
     "output_type": "stream",
     "text": [
      "60000/60000 [==============================] - 80s 1ms/sample - loss: 0.5363 - accuracy: 0.7528 - val_loss: 0.6261 - val_accuracy: 0.7343\n",
      "60000/60000 [==============================] - 80s 1ms/sample - loss: 0.5363 - accuracy: 0.7528 - val_loss: 0.6261 - val_accuracy: 0.7343\n"
     ]
    },
    {
     "name": "stderr",
     "output_type": "stream",
     "text": [
      "[2020-04-04 10:20:19,635] INFO: Learning rate: 0.066667\n"
     ]
    },
    {
     "name": "stdout",
     "output_type": "stream",
     "text": [
      "Epoch 6/60\n",
      "Epoch 6/60\n",
      "59968/60000 [============================>.] - ETA: 0s - loss: 0.5159 - accuracy: 0.7670WARNING:tensorflow:Can save best model only with val_acc available, skipping.\n"
     ]
    },
    {
     "name": "stderr",
     "output_type": "stream",
     "text": [
      "[2020-04-04 10:21:40,799] WARNING: Can save best model only with val_acc available, skipping.\n"
     ]
    },
    {
     "name": "stdout",
     "output_type": "stream",
     "text": [
      "60000/60000 [==============================] - 81s 1ms/sample - loss: 0.5158 - accuracy: 0.7671 - val_loss: 0.4603 - val_accuracy: 0.8041\n",
      "60000/60000 [==============================] - 81s 1ms/sample - loss: 0.5158 - accuracy: 0.7671 - val_loss: 0.4603 - val_accuracy: 0.8041\n"
     ]
    },
    {
     "name": "stderr",
     "output_type": "stream",
     "text": [
      "[2020-04-04 10:21:40,865] INFO: Learning rate: 0.066667\n"
     ]
    },
    {
     "name": "stdout",
     "output_type": "stream",
     "text": [
      "Epoch 7/60\n",
      "Epoch 7/60\n",
      "59968/60000 [============================>.] - ETA: 0s - loss: 0.5152 - accuracy: 0.7675WARNING:tensorflow:Can save best model only with val_acc available, skipping.\n"
     ]
    },
    {
     "name": "stderr",
     "output_type": "stream",
     "text": [
      "[2020-04-04 10:23:01,021] WARNING: Can save best model only with val_acc available, skipping.\n"
     ]
    },
    {
     "name": "stdout",
     "output_type": "stream",
     "text": [
      "60000/60000 [==============================] - 80s 1ms/sample - loss: 0.5151 - accuracy: 0.7676 - val_loss: 0.4642 - val_accuracy: 0.8002\n",
      "60000/60000 [==============================] - 80s 1ms/sample - loss: 0.5151 - accuracy: 0.7676 - val_loss: 0.4642 - val_accuracy: 0.8002\n"
     ]
    },
    {
     "name": "stderr",
     "output_type": "stream",
     "text": [
      "[2020-04-04 10:23:01,027] INFO: Learning rate: 0.066667\n"
     ]
    },
    {
     "name": "stdout",
     "output_type": "stream",
     "text": [
      "Epoch 8/60\n",
      "Epoch 8/60\n",
      "59968/60000 [============================>.] - ETA: 0s - loss: 0.5101 - accuracy: 0.7708WARNING:tensorflow:Can save best model only with val_acc available, skipping.\n"
     ]
    },
    {
     "name": "stderr",
     "output_type": "stream",
     "text": [
      "[2020-04-04 10:24:20,880] WARNING: Can save best model only with val_acc available, skipping.\n"
     ]
    },
    {
     "name": "stdout",
     "output_type": "stream",
     "text": [
      "60000/60000 [==============================] - 80s 1ms/sample - loss: 0.5102 - accuracy: 0.7707 - val_loss: 0.4530 - val_accuracy: 0.8032\n",
      "60000/60000 [==============================] - 80s 1ms/sample - loss: 0.5102 - accuracy: 0.7707 - val_loss: 0.4530 - val_accuracy: 0.8032\n"
     ]
    },
    {
     "name": "stderr",
     "output_type": "stream",
     "text": [
      "[2020-04-04 10:24:20,935] INFO: Learning rate: 0.066667\n"
     ]
    },
    {
     "name": "stdout",
     "output_type": "stream",
     "text": [
      "Epoch 9/60\n",
      "Epoch 9/60\n",
      "59968/60000 [============================>.] - ETA: 0s - loss: 0.5108 - accuracy: 0.7705WARNING:tensorflow:Can save best model only with val_acc available, skipping.\n"
     ]
    },
    {
     "name": "stderr",
     "output_type": "stream",
     "text": [
      "[2020-04-04 10:25:41,036] WARNING: Can save best model only with val_acc available, skipping.\n"
     ]
    },
    {
     "name": "stdout",
     "output_type": "stream",
     "text": [
      "60000/60000 [==============================] - 80s 1ms/sample - loss: 0.5109 - accuracy: 0.7705 - val_loss: 0.4640 - val_accuracy: 0.8029\n",
      "60000/60000 [==============================] - 80s 1ms/sample - loss: 0.5109 - accuracy: 0.7705 - val_loss: 0.4640 - val_accuracy: 0.8029\n"
     ]
    },
    {
     "name": "stderr",
     "output_type": "stream",
     "text": [
      "[2020-04-04 10:25:41,042] INFO: Learning rate: 0.066667\n"
     ]
    },
    {
     "name": "stdout",
     "output_type": "stream",
     "text": [
      "Epoch 10/60\n",
      "Epoch 10/60\n",
      "59968/60000 [============================>.] - ETA: 0s - loss: 0.5096 - accuracy: 0.7711WARNING:tensorflow:Can save best model only with val_acc available, skipping.\n"
     ]
    },
    {
     "name": "stderr",
     "output_type": "stream",
     "text": [
      "[2020-04-04 10:27:00,693] WARNING: Can save best model only with val_acc available, skipping.\n"
     ]
    },
    {
     "name": "stdout",
     "output_type": "stream",
     "text": [
      "60000/60000 [==============================] - 80s 1ms/sample - loss: 0.5097 - accuracy: 0.7710 - val_loss: 0.4592 - val_accuracy: 0.8037\n",
      "60000/60000 [==============================] - 80s 1ms/sample - loss: 0.5097 - accuracy: 0.7710 - val_loss: 0.4592 - val_accuracy: 0.8037\n"
     ]
    },
    {
     "name": "stderr",
     "output_type": "stream",
     "text": [
      "[2020-04-04 10:27:00,700] INFO: Learning rate: 0.022222\n"
     ]
    },
    {
     "name": "stdout",
     "output_type": "stream",
     "text": [
      "Epoch 11/60\n",
      "Epoch 11/60\n",
      "59968/60000 [============================>.] - ETA: 0s - loss: 0.5011 - accuracy: 0.7765WARNING:tensorflow:Can save best model only with val_acc available, skipping.\n"
     ]
    },
    {
     "name": "stderr",
     "output_type": "stream",
     "text": [
      "[2020-04-04 10:28:19,842] WARNING: Can save best model only with val_acc available, skipping.\n"
     ]
    },
    {
     "name": "stdout",
     "output_type": "stream",
     "text": [
      "60000/60000 [==============================] - 79s 1ms/sample - loss: 0.5011 - accuracy: 0.7765 - val_loss: 0.4588 - val_accuracy: 0.8044\n",
      "60000/60000 [==============================] - 79s 1ms/sample - loss: 0.5011 - accuracy: 0.7765 - val_loss: 0.4588 - val_accuracy: 0.8044\n"
     ]
    },
    {
     "name": "stderr",
     "output_type": "stream",
     "text": [
      "[2020-04-04 10:28:19,849] INFO: Learning rate: 0.022222\n"
     ]
    },
    {
     "name": "stdout",
     "output_type": "stream",
     "text": [
      "Epoch 12/60\n",
      "Epoch 12/60\n",
      "59968/60000 [============================>.] - ETA: 0s - loss: 0.5012 - accuracy: 0.7773WARNING:tensorflow:Can save best model only with val_acc available, skipping.\n"
     ]
    },
    {
     "name": "stderr",
     "output_type": "stream",
     "text": [
      "[2020-04-04 10:29:39,371] WARNING: Can save best model only with val_acc available, skipping.\n"
     ]
    },
    {
     "name": "stdout",
     "output_type": "stream",
     "text": [
      "60000/60000 [==============================] - 80s 1ms/sample - loss: 0.5013 - accuracy: 0.7774 - val_loss: 0.4584 - val_accuracy: 0.8064\n",
      "60000/60000 [==============================] - 80s 1ms/sample - loss: 0.5013 - accuracy: 0.7774 - val_loss: 0.4584 - val_accuracy: 0.8064\n"
     ]
    },
    {
     "name": "stderr",
     "output_type": "stream",
     "text": [
      "[2020-04-04 10:29:39,377] INFO: Learning rate: 0.022222\n"
     ]
    },
    {
     "name": "stdout",
     "output_type": "stream",
     "text": [
      "Epoch 13/60\n",
      "Epoch 13/60\n",
      "59968/60000 [============================>.] - ETA: 0s - loss: 0.5031 - accuracy: 0.7742WARNING:tensorflow:Can save best model only with val_acc available, skipping.\n"
     ]
    },
    {
     "name": "stderr",
     "output_type": "stream",
     "text": [
      "[2020-04-04 10:30:59,550] WARNING: Can save best model only with val_acc available, skipping.\n"
     ]
    },
    {
     "name": "stdout",
     "output_type": "stream",
     "text": [
      "60000/60000 [==============================] - 80s 1ms/sample - loss: 0.5032 - accuracy: 0.7741 - val_loss: 0.4569 - val_accuracy: 0.8060\n",
      "60000/60000 [==============================] - 80s 1ms/sample - loss: 0.5032 - accuracy: 0.7741 - val_loss: 0.4569 - val_accuracy: 0.8060\n"
     ]
    },
    {
     "name": "stderr",
     "output_type": "stream",
     "text": [
      "[2020-04-04 10:30:59,556] INFO: Learning rate: 0.022222\n"
     ]
    },
    {
     "name": "stdout",
     "output_type": "stream",
     "text": [
      "Epoch 14/60\n",
      "Epoch 14/60\n",
      "59968/60000 [============================>.] - ETA: 0s - loss: 0.5019 - accuracy: 0.7766WARNING:tensorflow:Can save best model only with val_acc available, skipping.\n"
     ]
    },
    {
     "name": "stderr",
     "output_type": "stream",
     "text": [
      "[2020-04-04 10:32:19,359] WARNING: Can save best model only with val_acc available, skipping.\n"
     ]
    },
    {
     "name": "stdout",
     "output_type": "stream",
     "text": [
      "60000/60000 [==============================] - 80s 1ms/sample - loss: 0.5019 - accuracy: 0.7766 - val_loss: 0.4563 - val_accuracy: 0.8058\n",
      "60000/60000 [==============================] - 80s 1ms/sample - loss: 0.5019 - accuracy: 0.7766 - val_loss: 0.4563 - val_accuracy: 0.8058\n"
     ]
    },
    {
     "name": "stderr",
     "output_type": "stream",
     "text": [
      "[2020-04-04 10:32:19,365] INFO: Learning rate: 0.022222\n"
     ]
    },
    {
     "name": "stdout",
     "output_type": "stream",
     "text": [
      "Epoch 15/60\n",
      "Epoch 15/60\n",
      "59968/60000 [============================>.] - ETA: 0s - loss: 0.5006 - accuracy: 0.7763WARNING:tensorflow:Can save best model only with val_acc available, skipping.\n"
     ]
    },
    {
     "name": "stderr",
     "output_type": "stream",
     "text": [
      "[2020-04-04 10:33:39,274] WARNING: Can save best model only with val_acc available, skipping.\n"
     ]
    },
    {
     "name": "stdout",
     "output_type": "stream",
     "text": [
      "60000/60000 [==============================] - 80s 1ms/sample - loss: 0.5005 - accuracy: 0.7764 - val_loss: 0.4568 - val_accuracy: 0.8046\n",
      "60000/60000 [==============================] - 80s 1ms/sample - loss: 0.5005 - accuracy: 0.7764 - val_loss: 0.4568 - val_accuracy: 0.8046\n"
     ]
    },
    {
     "name": "stderr",
     "output_type": "stream",
     "text": [
      "[2020-04-04 10:33:39,280] INFO: Learning rate: 0.022222\n"
     ]
    },
    {
     "name": "stdout",
     "output_type": "stream",
     "text": [
      "Epoch 16/60\n",
      "Epoch 16/60\n",
      "59968/60000 [============================>.] - ETA: 0s - loss: 0.5027 - accuracy: 0.7757WARNING:tensorflow:Can save best model only with val_acc available, skipping.\n"
     ]
    },
    {
     "name": "stderr",
     "output_type": "stream",
     "text": [
      "[2020-04-04 10:34:59,375] WARNING: Can save best model only with val_acc available, skipping.\n"
     ]
    },
    {
     "name": "stdout",
     "output_type": "stream",
     "text": [
      "60000/60000 [==============================] - 80s 1ms/sample - loss: 0.5027 - accuracy: 0.7757 - val_loss: 0.4617 - val_accuracy: 0.8052\n",
      "60000/60000 [==============================] - 80s 1ms/sample - loss: 0.5027 - accuracy: 0.7757 - val_loss: 0.4617 - val_accuracy: 0.8052\n"
     ]
    },
    {
     "name": "stderr",
     "output_type": "stream",
     "text": [
      "[2020-04-04 10:34:59,381] INFO: Learning rate: 0.022222\n"
     ]
    },
    {
     "name": "stdout",
     "output_type": "stream",
     "text": [
      "Epoch 17/60\n",
      "Epoch 17/60\n",
      "59968/60000 [============================>.] - ETA: 0s - loss: 0.4995 - accuracy: 0.7786WARNING:tensorflow:Can save best model only with val_acc available, skipping.\n"
     ]
    },
    {
     "name": "stderr",
     "output_type": "stream",
     "text": [
      "[2020-04-04 10:36:18,807] WARNING: Can save best model only with val_acc available, skipping.\n"
     ]
    },
    {
     "name": "stdout",
     "output_type": "stream",
     "text": [
      "60000/60000 [==============================] - 79s 1ms/sample - loss: 0.4994 - accuracy: 0.7786 - val_loss: 0.4610 - val_accuracy: 0.7975\n",
      "60000/60000 [==============================] - 79s 1ms/sample - loss: 0.4994 - accuracy: 0.7786 - val_loss: 0.4610 - val_accuracy: 0.7975\n"
     ]
    },
    {
     "name": "stderr",
     "output_type": "stream",
     "text": [
      "[2020-04-04 10:36:18,814] INFO: Learning rate: 0.007407\n"
     ]
    },
    {
     "name": "stdout",
     "output_type": "stream",
     "text": [
      "Epoch 18/60\n",
      "Epoch 18/60\n",
      "59968/60000 [============================>.] - ETA: 0s - loss: 0.4965 - accuracy: 0.7792WARNING:tensorflow:Can save best model only with val_acc available, skipping.\n"
     ]
    },
    {
     "name": "stderr",
     "output_type": "stream",
     "text": [
      "[2020-04-04 10:37:38,636] WARNING: Can save best model only with val_acc available, skipping.\n"
     ]
    },
    {
     "name": "stdout",
     "output_type": "stream",
     "text": [
      "60000/60000 [==============================] - 80s 1ms/sample - loss: 0.4965 - accuracy: 0.7792 - val_loss: 0.4609 - val_accuracy: 0.8051\n",
      "60000/60000 [==============================] - 80s 1ms/sample - loss: 0.4965 - accuracy: 0.7792 - val_loss: 0.4609 - val_accuracy: 0.8051\n"
     ]
    },
    {
     "name": "stderr",
     "output_type": "stream",
     "text": [
      "[2020-04-04 10:37:38,642] INFO: Learning rate: 0.007407\n"
     ]
    },
    {
     "name": "stdout",
     "output_type": "stream",
     "text": [
      "Epoch 19/60\n",
      "Epoch 19/60\n",
      "59968/60000 [============================>.] - ETA: 0s - loss: 0.4934 - accuracy: 0.7814WARNING:tensorflow:Can save best model only with val_acc available, skipping.\n"
     ]
    },
    {
     "name": "stderr",
     "output_type": "stream",
     "text": [
      "[2020-04-04 10:38:57,920] WARNING: Can save best model only with val_acc available, skipping.\n"
     ]
    },
    {
     "name": "stdout",
     "output_type": "stream",
     "text": [
      "60000/60000 [==============================] - 79s 1ms/sample - loss: 0.4934 - accuracy: 0.7814 - val_loss: 0.4576 - val_accuracy: 0.8010\n",
      "60000/60000 [==============================] - 79s 1ms/sample - loss: 0.4934 - accuracy: 0.7814 - val_loss: 0.4576 - val_accuracy: 0.8010\n"
     ]
    },
    {
     "name": "stderr",
     "output_type": "stream",
     "text": [
      "[2020-04-04 10:38:57,926] INFO: Learning rate: 0.007407\n"
     ]
    },
    {
     "name": "stdout",
     "output_type": "stream",
     "text": [
      "Epoch 20/60\n",
      "Epoch 20/60\n",
      "59968/60000 [============================>.] - ETA: 0s - loss: 0.4998 - accuracy: 0.7780WARNING:tensorflow:Can save best model only with val_acc available, skipping.\n"
     ]
    },
    {
     "name": "stderr",
     "output_type": "stream",
     "text": [
      "[2020-04-04 10:40:18,086] WARNING: Can save best model only with val_acc available, skipping.\n"
     ]
    },
    {
     "name": "stdout",
     "output_type": "stream",
     "text": [
      "60000/60000 [==============================] - 80s 1ms/sample - loss: 0.4997 - accuracy: 0.7781 - val_loss: 0.4520 - val_accuracy: 0.8082\n",
      "60000/60000 [==============================] - 80s 1ms/sample - loss: 0.4997 - accuracy: 0.7781 - val_loss: 0.4520 - val_accuracy: 0.8082\n"
     ]
    },
    {
     "name": "stderr",
     "output_type": "stream",
     "text": [
      "[2020-04-04 10:40:18,139] INFO: Learning rate: 0.007407\n"
     ]
    },
    {
     "name": "stdout",
     "output_type": "stream",
     "text": [
      "Epoch 21/60\n",
      "Epoch 21/60\n",
      "59968/60000 [============================>.] - ETA: 0s - loss: 0.4980 - accuracy: 0.7803WARNING:tensorflow:Can save best model only with val_acc available, skipping.\n"
     ]
    },
    {
     "name": "stderr",
     "output_type": "stream",
     "text": [
      "[2020-04-04 10:41:38,197] WARNING: Can save best model only with val_acc available, skipping.\n"
     ]
    },
    {
     "name": "stdout",
     "output_type": "stream",
     "text": [
      "60000/60000 [==============================] - 80s 1ms/sample - loss: 0.4980 - accuracy: 0.7803 - val_loss: 0.4546 - val_accuracy: 0.8082\n",
      "60000/60000 [==============================] - 80s 1ms/sample - loss: 0.4980 - accuracy: 0.7803 - val_loss: 0.4546 - val_accuracy: 0.8082\n"
     ]
    },
    {
     "name": "stderr",
     "output_type": "stream",
     "text": [
      "[2020-04-04 10:41:38,203] INFO: Learning rate: 0.007407\n"
     ]
    },
    {
     "name": "stdout",
     "output_type": "stream",
     "text": [
      "Epoch 22/60\n",
      "Epoch 22/60\n",
      "59968/60000 [============================>.] - ETA: 0s - loss: 0.4951 - accuracy: 0.7814WARNING:tensorflow:Can save best model only with val_acc available, skipping.\n"
     ]
    },
    {
     "name": "stderr",
     "output_type": "stream",
     "text": [
      "[2020-04-04 10:42:58,005] WARNING: Can save best model only with val_acc available, skipping.\n"
     ]
    },
    {
     "name": "stdout",
     "output_type": "stream",
     "text": [
      "60000/60000 [==============================] - 80s 1ms/sample - loss: 0.4951 - accuracy: 0.7814 - val_loss: 0.4609 - val_accuracy: 0.8016\n",
      "60000/60000 [==============================] - 80s 1ms/sample - loss: 0.4951 - accuracy: 0.7814 - val_loss: 0.4609 - val_accuracy: 0.8016\n"
     ]
    },
    {
     "name": "stderr",
     "output_type": "stream",
     "text": [
      "[2020-04-04 10:42:58,011] INFO: Learning rate: 0.002469\n"
     ]
    },
    {
     "name": "stdout",
     "output_type": "stream",
     "text": [
      "Epoch 23/60\n",
      "Epoch 23/60\n",
      "59968/60000 [============================>.] - ETA: 0s - loss: 0.4948 - accuracy: 0.7814WARNING:tensorflow:Can save best model only with val_acc available, skipping.\n"
     ]
    },
    {
     "name": "stderr",
     "output_type": "stream",
     "text": [
      "[2020-04-04 10:44:18,161] WARNING: Can save best model only with val_acc available, skipping.\n"
     ]
    },
    {
     "name": "stdout",
     "output_type": "stream",
     "text": [
      "60000/60000 [==============================] - 80s 1ms/sample - loss: 0.4949 - accuracy: 0.7813 - val_loss: 0.4572 - val_accuracy: 0.8058\n",
      "60000/60000 [==============================] - 80s 1ms/sample - loss: 0.4949 - accuracy: 0.7813 - val_loss: 0.4572 - val_accuracy: 0.8058\n"
     ]
    },
    {
     "name": "stderr",
     "output_type": "stream",
     "text": [
      "[2020-04-04 10:44:18,169] INFO: Learning rate: 0.002469\n"
     ]
    },
    {
     "name": "stdout",
     "output_type": "stream",
     "text": [
      "Epoch 24/60\n",
      "Epoch 24/60\n",
      "59968/60000 [============================>.] - ETA: 0s - loss: 0.4957 - accuracy: 0.7813WARNING:tensorflow:Can save best model only with val_acc available, skipping.\n"
     ]
    },
    {
     "name": "stderr",
     "output_type": "stream",
     "text": [
      "[2020-04-04 10:45:38,350] WARNING: Can save best model only with val_acc available, skipping.\n"
     ]
    },
    {
     "name": "stdout",
     "output_type": "stream",
     "text": [
      "60000/60000 [==============================] - 80s 1ms/sample - loss: 0.4956 - accuracy: 0.7814 - val_loss: 0.4565 - val_accuracy: 0.8070\n",
      "60000/60000 [==============================] - 80s 1ms/sample - loss: 0.4956 - accuracy: 0.7814 - val_loss: 0.4565 - val_accuracy: 0.8070\n"
     ]
    },
    {
     "name": "stderr",
     "output_type": "stream",
     "text": [
      "[2020-04-04 10:45:38,356] INFO: Learning rate: 0.002469\n"
     ]
    },
    {
     "name": "stdout",
     "output_type": "stream",
     "text": [
      "Epoch 25/60\n",
      "Epoch 25/60\n",
      "59968/60000 [============================>.] - ETA: 0s - loss: 0.4958 - accuracy: 0.7807WARNING:tensorflow:Can save best model only with val_acc available, skipping.\n"
     ]
    },
    {
     "name": "stderr",
     "output_type": "stream",
     "text": [
      "[2020-04-04 10:46:58,671] WARNING: Can save best model only with val_acc available, skipping.\n"
     ]
    },
    {
     "name": "stdout",
     "output_type": "stream",
     "text": [
      "60000/60000 [==============================] - 80s 1ms/sample - loss: 0.4958 - accuracy: 0.7807 - val_loss: 0.4553 - val_accuracy: 0.8078\n",
      "60000/60000 [==============================] - 80s 1ms/sample - loss: 0.4958 - accuracy: 0.7807 - val_loss: 0.4553 - val_accuracy: 0.8078\n"
     ]
    },
    {
     "name": "stderr",
     "output_type": "stream",
     "text": [
      "[2020-04-04 10:46:58,677] INFO: Learning rate: 0.002469\n"
     ]
    },
    {
     "name": "stdout",
     "output_type": "stream",
     "text": [
      "Epoch 26/60\n",
      "Epoch 26/60\n",
      "59968/60000 [============================>.] - ETA: 0s - loss: 0.4935 - accuracy: 0.7821WARNING:tensorflow:Can save best model only with val_acc available, skipping.\n"
     ]
    },
    {
     "name": "stderr",
     "output_type": "stream",
     "text": [
      "[2020-04-04 10:48:18,530] WARNING: Can save best model only with val_acc available, skipping.\n"
     ]
    },
    {
     "name": "stdout",
     "output_type": "stream",
     "text": [
      "60000/60000 [==============================] - 80s 1ms/sample - loss: 0.4935 - accuracy: 0.7821 - val_loss: 0.4520 - val_accuracy: 0.8081\n",
      "60000/60000 [==============================] - 80s 1ms/sample - loss: 0.4935 - accuracy: 0.7821 - val_loss: 0.4520 - val_accuracy: 0.8081\n"
     ]
    },
    {
     "name": "stderr",
     "output_type": "stream",
     "text": [
      "[2020-04-04 10:48:18,536] INFO: Learning rate: 0.002469\n"
     ]
    },
    {
     "name": "stdout",
     "output_type": "stream",
     "text": [
      "Epoch 27/60\n",
      "Epoch 27/60\n",
      "59968/60000 [============================>.] - ETA: 0s - loss: 0.4947 - accuracy: 0.7805WARNING:tensorflow:Can save best model only with val_acc available, skipping.\n"
     ]
    },
    {
     "name": "stderr",
     "output_type": "stream",
     "text": [
      "[2020-04-04 10:49:38,414] WARNING: Can save best model only with val_acc available, skipping.\n"
     ]
    },
    {
     "name": "stdout",
     "output_type": "stream",
     "text": [
      "60000/60000 [==============================] - 80s 1ms/sample - loss: 0.4946 - accuracy: 0.7805 - val_loss: 0.4535 - val_accuracy: 0.8095\n",
      "60000/60000 [==============================] - 80s 1ms/sample - loss: 0.4946 - accuracy: 0.7805 - val_loss: 0.4535 - val_accuracy: 0.8095\n"
     ]
    },
    {
     "name": "stderr",
     "output_type": "stream",
     "text": [
      "[2020-04-04 10:49:38,420] INFO: Learning rate: 0.000823\n"
     ]
    },
    {
     "name": "stdout",
     "output_type": "stream",
     "text": [
      "Epoch 28/60\n",
      "Epoch 28/60\n",
      "59968/60000 [============================>.] - ETA: 0s - loss: 0.4959 - accuracy: 0.7801WARNING:tensorflow:Can save best model only with val_acc available, skipping.\n"
     ]
    },
    {
     "name": "stderr",
     "output_type": "stream",
     "text": [
      "[2020-04-04 10:50:58,129] WARNING: Can save best model only with val_acc available, skipping.\n"
     ]
    },
    {
     "name": "stdout",
     "output_type": "stream",
     "text": [
      "60000/60000 [==============================] - 80s 1ms/sample - loss: 0.4959 - accuracy: 0.7801 - val_loss: 0.4539 - val_accuracy: 0.8083\n",
      "60000/60000 [==============================] - 80s 1ms/sample - loss: 0.4959 - accuracy: 0.7801 - val_loss: 0.4539 - val_accuracy: 0.8083\n"
     ]
    },
    {
     "name": "stderr",
     "output_type": "stream",
     "text": [
      "[2020-04-04 10:50:58,135] INFO: Learning rate: 0.000823\n"
     ]
    },
    {
     "name": "stdout",
     "output_type": "stream",
     "text": [
      "Epoch 29/60\n",
      "Epoch 29/60\n",
      "59968/60000 [============================>.] - ETA: 0s - loss: 0.4930 - accuracy: 0.7821WARNING:tensorflow:Can save best model only with val_acc available, skipping.\n"
     ]
    },
    {
     "name": "stderr",
     "output_type": "stream",
     "text": [
      "[2020-04-04 10:52:18,028] WARNING: Can save best model only with val_acc available, skipping.\n"
     ]
    },
    {
     "name": "stdout",
     "output_type": "stream",
     "text": [
      "60000/60000 [==============================] - 80s 1ms/sample - loss: 0.4930 - accuracy: 0.7822 - val_loss: 0.4527 - val_accuracy: 0.8088\n",
      "60000/60000 [==============================] - 80s 1ms/sample - loss: 0.4930 - accuracy: 0.7822 - val_loss: 0.4527 - val_accuracy: 0.8088\n"
     ]
    },
    {
     "name": "stderr",
     "output_type": "stream",
     "text": [
      "[2020-04-04 10:52:18,034] INFO: Learning rate: 0.000823\n"
     ]
    },
    {
     "name": "stdout",
     "output_type": "stream",
     "text": [
      "Epoch 30/60\n",
      "Epoch 30/60\n",
      "59968/60000 [============================>.] - ETA: 0s - loss: 0.4950 - accuracy: 0.7814WARNING:tensorflow:Can save best model only with val_acc available, skipping.\n"
     ]
    },
    {
     "name": "stderr",
     "output_type": "stream",
     "text": [
      "[2020-04-04 10:53:37,891] WARNING: Can save best model only with val_acc available, skipping.\n"
     ]
    },
    {
     "name": "stdout",
     "output_type": "stream",
     "text": [
      "60000/60000 [==============================] - 80s 1ms/sample - loss: 0.4949 - accuracy: 0.7814 - val_loss: 0.4536 - val_accuracy: 0.8085\n",
      "60000/60000 [==============================] - 80s 1ms/sample - loss: 0.4949 - accuracy: 0.7814 - val_loss: 0.4536 - val_accuracy: 0.8085\n"
     ]
    },
    {
     "name": "stderr",
     "output_type": "stream",
     "text": [
      "[2020-04-04 10:53:37,899] INFO: Learning rate: 0.000823\n"
     ]
    },
    {
     "name": "stdout",
     "output_type": "stream",
     "text": [
      "Epoch 31/60\n",
      "Epoch 31/60\n",
      "59968/60000 [============================>.] - ETA: 0s - loss: 0.4950 - accuracy: 0.7812WARNING:tensorflow:Can save best model only with val_acc available, skipping.\n"
     ]
    },
    {
     "name": "stderr",
     "output_type": "stream",
     "text": [
      "[2020-04-04 10:54:57,498] WARNING: Can save best model only with val_acc available, skipping.\n"
     ]
    },
    {
     "name": "stdout",
     "output_type": "stream",
     "text": [
      "60000/60000 [==============================] - 80s 1ms/sample - loss: 0.4949 - accuracy: 0.7812 - val_loss: 0.4542 - val_accuracy: 0.8082\n",
      "60000/60000 [==============================] - 80s 1ms/sample - loss: 0.4949 - accuracy: 0.7812 - val_loss: 0.4542 - val_accuracy: 0.8082\n"
     ]
    },
    {
     "name": "stderr",
     "output_type": "stream",
     "text": [
      "[2020-04-04 10:54:57,505] INFO: Learning rate: 0.000823\n"
     ]
    },
    {
     "name": "stdout",
     "output_type": "stream",
     "text": [
      "Epoch 32/60\n",
      "Epoch 32/60\n",
      "59968/60000 [============================>.] - ETA: 0s - loss: 0.4917 - accuracy: 0.7828WARNING:tensorflow:Can save best model only with val_acc available, skipping.\n"
     ]
    },
    {
     "name": "stderr",
     "output_type": "stream",
     "text": [
      "[2020-04-04 10:56:17,514] WARNING: Can save best model only with val_acc available, skipping.\n"
     ]
    },
    {
     "name": "stdout",
     "output_type": "stream",
     "text": [
      "60000/60000 [==============================] - 80s 1ms/sample - loss: 0.4917 - accuracy: 0.7828 - val_loss: 0.4534 - val_accuracy: 0.8086\n",
      "60000/60000 [==============================] - 80s 1ms/sample - loss: 0.4917 - accuracy: 0.7828 - val_loss: 0.4534 - val_accuracy: 0.8086\n"
     ]
    },
    {
     "name": "stderr",
     "output_type": "stream",
     "text": [
      "[2020-04-04 10:56:17,519] INFO: Learning rate: 0.000274\n"
     ]
    },
    {
     "name": "stdout",
     "output_type": "stream",
     "text": [
      "Epoch 33/60\n",
      "Epoch 33/60\n",
      "59968/60000 [============================>.] - ETA: 0s - loss: 0.4929 - accuracy: 0.7830WARNING:tensorflow:Can save best model only with val_acc available, skipping.\n"
     ]
    },
    {
     "name": "stderr",
     "output_type": "stream",
     "text": [
      "[2020-04-04 10:57:37,166] WARNING: Can save best model only with val_acc available, skipping.\n"
     ]
    },
    {
     "name": "stdout",
     "output_type": "stream",
     "text": [
      "60000/60000 [==============================] - 80s 1ms/sample - loss: 0.4929 - accuracy: 0.7830 - val_loss: 0.4545 - val_accuracy: 0.8074\n",
      "60000/60000 [==============================] - 80s 1ms/sample - loss: 0.4929 - accuracy: 0.7830 - val_loss: 0.4545 - val_accuracy: 0.8074\n"
     ]
    },
    {
     "name": "stderr",
     "output_type": "stream",
     "text": [
      "[2020-04-04 10:57:37,173] INFO: Learning rate: 0.000274\n"
     ]
    },
    {
     "name": "stdout",
     "output_type": "stream",
     "text": [
      "Epoch 34/60\n",
      "Epoch 34/60\n",
      "59968/60000 [============================>.] - ETA: 0s - loss: 0.4951 - accuracy: 0.7808WARNING:tensorflow:Can save best model only with val_acc available, skipping.\n"
     ]
    },
    {
     "name": "stderr",
     "output_type": "stream",
     "text": [
      "[2020-04-04 10:58:57,124] WARNING: Can save best model only with val_acc available, skipping.\n"
     ]
    },
    {
     "name": "stdout",
     "output_type": "stream",
     "text": [
      "60000/60000 [==============================] - 80s 1ms/sample - loss: 0.4951 - accuracy: 0.7809 - val_loss: 0.4536 - val_accuracy: 0.8083\n",
      "60000/60000 [==============================] - 80s 1ms/sample - loss: 0.4951 - accuracy: 0.7809 - val_loss: 0.4536 - val_accuracy: 0.8083\n"
     ]
    },
    {
     "name": "stderr",
     "output_type": "stream",
     "text": [
      "[2020-04-04 10:58:57,131] INFO: Learning rate: 0.000274\n"
     ]
    },
    {
     "name": "stdout",
     "output_type": "stream",
     "text": [
      "Epoch 35/60\n",
      "Epoch 35/60\n",
      "59968/60000 [============================>.] - ETA: 0s - loss: 0.4951 - accuracy: 0.7799WARNING:tensorflow:Can save best model only with val_acc available, skipping.\n"
     ]
    },
    {
     "name": "stderr",
     "output_type": "stream",
     "text": [
      "[2020-04-04 11:00:17,794] WARNING: Can save best model only with val_acc available, skipping.\n"
     ]
    },
    {
     "name": "stdout",
     "output_type": "stream",
     "text": [
      "60000/60000 [==============================] - 81s 1ms/sample - loss: 0.4951 - accuracy: 0.7799 - val_loss: 0.4536 - val_accuracy: 0.8078\n",
      "60000/60000 [==============================] - 81s 1ms/sample - loss: 0.4951 - accuracy: 0.7799 - val_loss: 0.4536 - val_accuracy: 0.8078\n"
     ]
    },
    {
     "name": "stderr",
     "output_type": "stream",
     "text": [
      "[2020-04-04 11:00:17,800] INFO: Learning rate: 0.000274\n"
     ]
    },
    {
     "name": "stdout",
     "output_type": "stream",
     "text": [
      "Epoch 36/60\n",
      "Epoch 36/60\n",
      "59968/60000 [============================>.] - ETA: 0s - loss: 0.4936 - accuracy: 0.7821WARNING:tensorflow:Can save best model only with val_acc available, skipping.\n"
     ]
    },
    {
     "name": "stderr",
     "output_type": "stream",
     "text": [
      "[2020-04-04 11:01:38,532] WARNING: Can save best model only with val_acc available, skipping.\n"
     ]
    },
    {
     "name": "stdout",
     "output_type": "stream",
     "text": [
      "60000/60000 [==============================] - 81s 1ms/sample - loss: 0.4936 - accuracy: 0.7821 - val_loss: 0.4540 - val_accuracy: 0.8081\n",
      "60000/60000 [==============================] - 81s 1ms/sample - loss: 0.4936 - accuracy: 0.7821 - val_loss: 0.4540 - val_accuracy: 0.8081\n"
     ]
    },
    {
     "name": "stderr",
     "output_type": "stream",
     "text": [
      "[2020-04-04 11:01:38,538] INFO: Learning rate: 0.000274\n"
     ]
    },
    {
     "name": "stdout",
     "output_type": "stream",
     "text": [
      "Epoch 37/60\n",
      "Epoch 37/60\n",
      "59968/60000 [============================>.] - ETA: 0s - loss: 0.4929 - accuracy: 0.7818WARNING:tensorflow:Can save best model only with val_acc available, skipping.\n"
     ]
    },
    {
     "name": "stderr",
     "output_type": "stream",
     "text": [
      "[2020-04-04 11:02:59,195] WARNING: Can save best model only with val_acc available, skipping.\n"
     ]
    },
    {
     "name": "stdout",
     "output_type": "stream",
     "text": [
      "60000/60000 [==============================] - 81s 1ms/sample - loss: 0.4929 - accuracy: 0.7818 - val_loss: 0.4537 - val_accuracy: 0.8088\n",
      "60000/60000 [==============================] - 81s 1ms/sample - loss: 0.4929 - accuracy: 0.7818 - val_loss: 0.4537 - val_accuracy: 0.8088\n"
     ]
    },
    {
     "name": "stderr",
     "output_type": "stream",
     "text": [
      "[2020-04-04 11:02:59,202] INFO: Learning rate: 0.000091\n"
     ]
    },
    {
     "name": "stdout",
     "output_type": "stream",
     "text": [
      "Epoch 38/60\n",
      "Epoch 38/60\n",
      "59968/60000 [============================>.] - ETA: 0s - loss: 0.4964 - accuracy: 0.7815WARNING:tensorflow:Can save best model only with val_acc available, skipping.\n"
     ]
    },
    {
     "name": "stderr",
     "output_type": "stream",
     "text": [
      "[2020-04-04 11:04:19,468] WARNING: Can save best model only with val_acc available, skipping.\n"
     ]
    },
    {
     "name": "stdout",
     "output_type": "stream",
     "text": [
      "60000/60000 [==============================] - 80s 1ms/sample - loss: 0.4963 - accuracy: 0.7815 - val_loss: 0.4542 - val_accuracy: 0.8072\n",
      "60000/60000 [==============================] - 80s 1ms/sample - loss: 0.4963 - accuracy: 0.7815 - val_loss: 0.4542 - val_accuracy: 0.8072\n"
     ]
    },
    {
     "name": "stderr",
     "output_type": "stream",
     "text": [
      "[2020-04-04 11:04:19,474] INFO: Learning rate: 0.000091\n"
     ]
    },
    {
     "name": "stdout",
     "output_type": "stream",
     "text": [
      "Epoch 39/60\n",
      "Epoch 39/60\n",
      "59968/60000 [============================>.] - ETA: 0s - loss: 0.4942 - accuracy: 0.7814WARNING:tensorflow:Can save best model only with val_acc available, skipping.\n"
     ]
    },
    {
     "name": "stderr",
     "output_type": "stream",
     "text": [
      "[2020-04-04 11:05:39,486] WARNING: Can save best model only with val_acc available, skipping.\n"
     ]
    },
    {
     "name": "stdout",
     "output_type": "stream",
     "text": [
      "60000/60000 [==============================] - 80s 1ms/sample - loss: 0.4942 - accuracy: 0.7814 - val_loss: 0.4540 - val_accuracy: 0.8077\n",
      "60000/60000 [==============================] - 80s 1ms/sample - loss: 0.4942 - accuracy: 0.7814 - val_loss: 0.4540 - val_accuracy: 0.8077\n"
     ]
    },
    {
     "name": "stderr",
     "output_type": "stream",
     "text": [
      "[2020-04-04 11:05:39,493] INFO: Learning rate: 0.000091\n"
     ]
    },
    {
     "name": "stdout",
     "output_type": "stream",
     "text": [
      "Epoch 40/60\n",
      "Epoch 40/60\n",
      "59968/60000 [============================>.] - ETA: 0s - loss: 0.4951 - accuracy: 0.7798WARNING:tensorflow:Can save best model only with val_acc available, skipping.\n"
     ]
    },
    {
     "name": "stderr",
     "output_type": "stream",
     "text": [
      "[2020-04-04 11:06:59,913] WARNING: Can save best model only with val_acc available, skipping.\n"
     ]
    },
    {
     "name": "stdout",
     "output_type": "stream",
     "text": [
      "60000/60000 [==============================] - 80s 1ms/sample - loss: 0.4951 - accuracy: 0.7799 - val_loss: 0.4541 - val_accuracy: 0.8086\n",
      "60000/60000 [==============================] - 80s 1ms/sample - loss: 0.4951 - accuracy: 0.7799 - val_loss: 0.4541 - val_accuracy: 0.8086\n"
     ]
    },
    {
     "name": "stderr",
     "output_type": "stream",
     "text": [
      "[2020-04-04 11:06:59,919] INFO: Learning rate: 0.000091\n"
     ]
    },
    {
     "name": "stdout",
     "output_type": "stream",
     "text": [
      "Epoch 41/60\n",
      "Epoch 41/60\n",
      "59968/60000 [============================>.] - ETA: 0s - loss: 0.4960 - accuracy: 0.7802WARNING:tensorflow:Can save best model only with val_acc available, skipping.\n"
     ]
    },
    {
     "name": "stderr",
     "output_type": "stream",
     "text": [
      "[2020-04-04 11:08:20,050] WARNING: Can save best model only with val_acc available, skipping.\n"
     ]
    },
    {
     "name": "stdout",
     "output_type": "stream",
     "text": [
      "60000/60000 [==============================] - 80s 1ms/sample - loss: 0.4959 - accuracy: 0.7802 - val_loss: 0.4545 - val_accuracy: 0.8072\n",
      "60000/60000 [==============================] - 80s 1ms/sample - loss: 0.4959 - accuracy: 0.7802 - val_loss: 0.4545 - val_accuracy: 0.8072\n"
     ]
    },
    {
     "name": "stderr",
     "output_type": "stream",
     "text": [
      "[2020-04-04 11:08:20,056] INFO: Learning rate: 0.000091\n"
     ]
    },
    {
     "name": "stdout",
     "output_type": "stream",
     "text": [
      "Epoch 42/60\n",
      "Epoch 42/60\n",
      "59968/60000 [============================>.] - ETA: 0s - loss: 0.4940 - accuracy: 0.7822WARNING:tensorflow:Can save best model only with val_acc available, skipping.\n"
     ]
    },
    {
     "name": "stderr",
     "output_type": "stream",
     "text": [
      "[2020-04-04 11:09:40,095] WARNING: Can save best model only with val_acc available, skipping.\n"
     ]
    },
    {
     "name": "stdout",
     "output_type": "stream",
     "text": [
      "60000/60000 [==============================] - 80s 1ms/sample - loss: 0.4940 - accuracy: 0.7821 - val_loss: 0.4538 - val_accuracy: 0.8080\n",
      "60000/60000 [==============================] - 80s 1ms/sample - loss: 0.4940 - accuracy: 0.7821 - val_loss: 0.4538 - val_accuracy: 0.8080\n"
     ]
    },
    {
     "name": "stderr",
     "output_type": "stream",
     "text": [
      "[2020-04-04 11:09:40,101] INFO: Learning rate: 0.000030\n"
     ]
    },
    {
     "name": "stdout",
     "output_type": "stream",
     "text": [
      "Epoch 43/60\n",
      "Epoch 43/60\n",
      "59968/60000 [============================>.] - ETA: 0s - loss: 0.4949 - accuracy: 0.7804WARNING:tensorflow:Can save best model only with val_acc available, skipping.\n"
     ]
    },
    {
     "name": "stderr",
     "output_type": "stream",
     "text": [
      "[2020-04-04 11:11:00,189] WARNING: Can save best model only with val_acc available, skipping.\n"
     ]
    },
    {
     "name": "stdout",
     "output_type": "stream",
     "text": [
      "60000/60000 [==============================] - 80s 1ms/sample - loss: 0.4950 - accuracy: 0.7804 - val_loss: 0.4549 - val_accuracy: 0.8078\n",
      "60000/60000 [==============================] - 80s 1ms/sample - loss: 0.4950 - accuracy: 0.7804 - val_loss: 0.4549 - val_accuracy: 0.8078\n"
     ]
    },
    {
     "name": "stderr",
     "output_type": "stream",
     "text": [
      "[2020-04-04 11:11:00,196] INFO: Learning rate: 0.000030\n"
     ]
    },
    {
     "name": "stdout",
     "output_type": "stream",
     "text": [
      "Epoch 44/60\n",
      "Epoch 44/60\n",
      "59968/60000 [============================>.] - ETA: 0s - loss: 0.4940 - accuracy: 0.7815WARNING:tensorflow:Can save best model only with val_acc available, skipping.\n"
     ]
    },
    {
     "name": "stderr",
     "output_type": "stream",
     "text": [
      "[2020-04-04 11:12:20,620] WARNING: Can save best model only with val_acc available, skipping.\n"
     ]
    },
    {
     "name": "stdout",
     "output_type": "stream",
     "text": [
      "60000/60000 [==============================] - 80s 1ms/sample - loss: 0.4939 - accuracy: 0.7816 - val_loss: 0.4543 - val_accuracy: 0.8079\n",
      "60000/60000 [==============================] - 80s 1ms/sample - loss: 0.4939 - accuracy: 0.7816 - val_loss: 0.4543 - val_accuracy: 0.8079\n"
     ]
    },
    {
     "name": "stderr",
     "output_type": "stream",
     "text": [
      "[2020-04-04 11:12:20,626] INFO: Learning rate: 0.000030\n"
     ]
    },
    {
     "name": "stdout",
     "output_type": "stream",
     "text": [
      "Epoch 45/60\n",
      "Epoch 45/60\n",
      "59968/60000 [============================>.] - ETA: 0s - loss: 0.4925 - accuracy: 0.7825WARNING:tensorflow:Can save best model only with val_acc available, skipping.\n"
     ]
    },
    {
     "name": "stderr",
     "output_type": "stream",
     "text": [
      "[2020-04-04 11:13:40,507] WARNING: Can save best model only with val_acc available, skipping.\n"
     ]
    },
    {
     "name": "stdout",
     "output_type": "stream",
     "text": [
      "60000/60000 [==============================] - 80s 1ms/sample - loss: 0.4925 - accuracy: 0.7825 - val_loss: 0.4536 - val_accuracy: 0.8078\n",
      "60000/60000 [==============================] - 80s 1ms/sample - loss: 0.4925 - accuracy: 0.7825 - val_loss: 0.4536 - val_accuracy: 0.8078\n"
     ]
    },
    {
     "name": "stderr",
     "output_type": "stream",
     "text": [
      "[2020-04-04 11:13:40,513] INFO: Learning rate: 0.000030\n"
     ]
    },
    {
     "name": "stdout",
     "output_type": "stream",
     "text": [
      "Epoch 46/60\n",
      "Epoch 46/60\n",
      "59968/60000 [============================>.] - ETA: 0s - loss: 0.4913 - accuracy: 0.7824WARNING:tensorflow:Can save best model only with val_acc available, skipping.\n"
     ]
    },
    {
     "name": "stderr",
     "output_type": "stream",
     "text": [
      "[2020-04-04 11:15:00,552] WARNING: Can save best model only with val_acc available, skipping.\n"
     ]
    },
    {
     "name": "stdout",
     "output_type": "stream",
     "text": [
      "60000/60000 [==============================] - 80s 1ms/sample - loss: 0.4913 - accuracy: 0.7824 - val_loss: 0.4542 - val_accuracy: 0.8068\n",
      "60000/60000 [==============================] - 80s 1ms/sample - loss: 0.4913 - accuracy: 0.7824 - val_loss: 0.4542 - val_accuracy: 0.8068\n"
     ]
    },
    {
     "name": "stderr",
     "output_type": "stream",
     "text": [
      "[2020-04-04 11:15:00,557] INFO: Learning rate: 0.000030\n"
     ]
    },
    {
     "name": "stdout",
     "output_type": "stream",
     "text": [
      "Epoch 47/60\n",
      "Epoch 47/60\n",
      "59968/60000 [============================>.] - ETA: 0s - loss: 0.4939 - accuracy: 0.7811WARNING:tensorflow:Can save best model only with val_acc available, skipping.\n"
     ]
    },
    {
     "name": "stderr",
     "output_type": "stream",
     "text": [
      "[2020-04-04 11:16:20,048] WARNING: Can save best model only with val_acc available, skipping.\n"
     ]
    },
    {
     "name": "stdout",
     "output_type": "stream",
     "text": [
      "60000/60000 [==============================] - 79s 1ms/sample - loss: 0.4939 - accuracy: 0.7811 - val_loss: 0.4540 - val_accuracy: 0.8078\n",
      "60000/60000 [==============================] - 79s 1ms/sample - loss: 0.4939 - accuracy: 0.7811 - val_loss: 0.4540 - val_accuracy: 0.8078\n"
     ]
    },
    {
     "name": "stderr",
     "output_type": "stream",
     "text": [
      "[2020-04-04 11:16:20,055] INFO: Learning rate: 0.000030\n"
     ]
    },
    {
     "name": "stdout",
     "output_type": "stream",
     "text": [
      "Epoch 48/60\n",
      "Epoch 48/60\n",
      "59968/60000 [============================>.] - ETA: 0s - loss: 0.4942 - accuracy: 0.7819WARNING:tensorflow:Can save best model only with val_acc available, skipping.\n"
     ]
    },
    {
     "name": "stderr",
     "output_type": "stream",
     "text": [
      "[2020-04-04 11:17:39,978] WARNING: Can save best model only with val_acc available, skipping.\n"
     ]
    },
    {
     "name": "stdout",
     "output_type": "stream",
     "text": [
      "60000/60000 [==============================] - 80s 1ms/sample - loss: 0.4943 - accuracy: 0.7818 - val_loss: 0.4541 - val_accuracy: 0.8081\n",
      "60000/60000 [==============================] - 80s 1ms/sample - loss: 0.4943 - accuracy: 0.7818 - val_loss: 0.4541 - val_accuracy: 0.8081\n"
     ]
    },
    {
     "name": "stderr",
     "output_type": "stream",
     "text": [
      "[2020-04-04 11:17:39,984] INFO: Learning rate: 0.000030\n"
     ]
    },
    {
     "name": "stdout",
     "output_type": "stream",
     "text": [
      "Epoch 49/60\n",
      "Epoch 49/60\n",
      "59968/60000 [============================>.] - ETA: 0s - loss: 0.4938 - accuracy: 0.7806WARNING:tensorflow:Can save best model only with val_acc available, skipping.\n"
     ]
    },
    {
     "name": "stderr",
     "output_type": "stream",
     "text": [
      "[2020-04-04 11:18:59,904] WARNING: Can save best model only with val_acc available, skipping.\n"
     ]
    },
    {
     "name": "stdout",
     "output_type": "stream",
     "text": [
      "60000/60000 [==============================] - 80s 1ms/sample - loss: 0.4937 - accuracy: 0.7807 - val_loss: 0.4539 - val_accuracy: 0.8080\n",
      "60000/60000 [==============================] - 80s 1ms/sample - loss: 0.4937 - accuracy: 0.7807 - val_loss: 0.4539 - val_accuracy: 0.8080\n"
     ]
    },
    {
     "name": "stderr",
     "output_type": "stream",
     "text": [
      "[2020-04-04 11:18:59,911] INFO: Learning rate: 0.000030\n"
     ]
    },
    {
     "name": "stdout",
     "output_type": "stream",
     "text": [
      "Epoch 50/60\n",
      "Epoch 50/60\n",
      "59968/60000 [============================>.] - ETA: 0s - loss: 0.4950 - accuracy: 0.7807WARNING:tensorflow:Can save best model only with val_acc available, skipping.\n"
     ]
    },
    {
     "name": "stderr",
     "output_type": "stream",
     "text": [
      "[2020-04-04 11:20:19,739] WARNING: Can save best model only with val_acc available, skipping.\n"
     ]
    },
    {
     "name": "stdout",
     "output_type": "stream",
     "text": [
      "60000/60000 [==============================] - 80s 1ms/sample - loss: 0.4952 - accuracy: 0.7806 - val_loss: 0.4541 - val_accuracy: 0.8084\n",
      "60000/60000 [==============================] - 80s 1ms/sample - loss: 0.4952 - accuracy: 0.7806 - val_loss: 0.4541 - val_accuracy: 0.8084\n"
     ]
    },
    {
     "name": "stderr",
     "output_type": "stream",
     "text": [
      "[2020-04-04 11:20:19,745] INFO: Learning rate: 0.000030\n"
     ]
    },
    {
     "name": "stdout",
     "output_type": "stream",
     "text": [
      "Epoch 51/60\n",
      "Epoch 51/60\n",
      "59968/60000 [============================>.] - ETA: 0s - loss: 0.4913 - accuracy: 0.7839WARNING:tensorflow:Can save best model only with val_acc available, skipping.\n"
     ]
    },
    {
     "name": "stderr",
     "output_type": "stream",
     "text": [
      "[2020-04-04 11:21:39,674] WARNING: Can save best model only with val_acc available, skipping.\n"
     ]
    },
    {
     "name": "stdout",
     "output_type": "stream",
     "text": [
      "60000/60000 [==============================] - 80s 1ms/sample - loss: 0.4912 - accuracy: 0.7839 - val_loss: 0.4546 - val_accuracy: 0.8082\n",
      "60000/60000 [==============================] - 80s 1ms/sample - loss: 0.4912 - accuracy: 0.7839 - val_loss: 0.4546 - val_accuracy: 0.8082\n"
     ]
    },
    {
     "name": "stderr",
     "output_type": "stream",
     "text": [
      "[2020-04-04 11:21:39,680] INFO: Learning rate: 0.000030\n"
     ]
    },
    {
     "name": "stdout",
     "output_type": "stream",
     "text": [
      "Epoch 52/60\n",
      "Epoch 52/60\n",
      "59968/60000 [============================>.] - ETA: 0s - loss: 0.4943 - accuracy: 0.7813WARNING:tensorflow:Can save best model only with val_acc available, skipping.\n"
     ]
    },
    {
     "name": "stderr",
     "output_type": "stream",
     "text": [
      "[2020-04-04 11:22:59,589] WARNING: Can save best model only with val_acc available, skipping.\n"
     ]
    },
    {
     "name": "stdout",
     "output_type": "stream",
     "text": [
      "60000/60000 [==============================] - 80s 1ms/sample - loss: 0.4943 - accuracy: 0.7814 - val_loss: 0.4544 - val_accuracy: 0.8073\n",
      "60000/60000 [==============================] - 80s 1ms/sample - loss: 0.4943 - accuracy: 0.7814 - val_loss: 0.4544 - val_accuracy: 0.8073\n"
     ]
    },
    {
     "name": "stderr",
     "output_type": "stream",
     "text": [
      "[2020-04-04 11:22:59,595] INFO: Learning rate: 0.000030\n"
     ]
    },
    {
     "name": "stdout",
     "output_type": "stream",
     "text": [
      "Epoch 53/60\n",
      "Epoch 53/60\n",
      "59968/60000 [============================>.] - ETA: 0s - loss: 0.4941 - accuracy: 0.7811WARNING:tensorflow:Can save best model only with val_acc available, skipping.\n"
     ]
    },
    {
     "name": "stderr",
     "output_type": "stream",
     "text": [
      "[2020-04-04 11:24:19,810] WARNING: Can save best model only with val_acc available, skipping.\n"
     ]
    },
    {
     "name": "stdout",
     "output_type": "stream",
     "text": [
      "60000/60000 [==============================] - 80s 1ms/sample - loss: 0.4940 - accuracy: 0.7812 - val_loss: 0.4546 - val_accuracy: 0.8070\n",
      "60000/60000 [==============================] - 80s 1ms/sample - loss: 0.4940 - accuracy: 0.7812 - val_loss: 0.4546 - val_accuracy: 0.8070\n"
     ]
    },
    {
     "name": "stderr",
     "output_type": "stream",
     "text": [
      "[2020-04-04 11:24:19,816] INFO: Learning rate: 0.000030\n"
     ]
    },
    {
     "name": "stdout",
     "output_type": "stream",
     "text": [
      "Epoch 54/60\n",
      "Epoch 54/60\n",
      "59968/60000 [============================>.] - ETA: 0s - loss: 0.4916 - accuracy: 0.7835WARNING:tensorflow:Can save best model only with val_acc available, skipping.\n"
     ]
    },
    {
     "name": "stderr",
     "output_type": "stream",
     "text": [
      "[2020-04-04 11:25:39,623] WARNING: Can save best model only with val_acc available, skipping.\n"
     ]
    },
    {
     "name": "stdout",
     "output_type": "stream",
     "text": [
      "60000/60000 [==============================] - 80s 1ms/sample - loss: 0.4916 - accuracy: 0.7835 - val_loss: 0.4539 - val_accuracy: 0.8078\n",
      "60000/60000 [==============================] - 80s 1ms/sample - loss: 0.4916 - accuracy: 0.7835 - val_loss: 0.4539 - val_accuracy: 0.8078\n"
     ]
    },
    {
     "name": "stderr",
     "output_type": "stream",
     "text": [
      "[2020-04-04 11:25:39,629] INFO: Learning rate: 0.000030\n"
     ]
    },
    {
     "name": "stdout",
     "output_type": "stream",
     "text": [
      "Epoch 55/60\n",
      "Epoch 55/60\n",
      "59968/60000 [============================>.] - ETA: 0s - loss: 0.4941 - accuracy: 0.7812WARNING:tensorflow:Can save best model only with val_acc available, skipping.\n"
     ]
    },
    {
     "name": "stderr",
     "output_type": "stream",
     "text": [
      "[2020-04-04 11:26:58,917] WARNING: Can save best model only with val_acc available, skipping.\n"
     ]
    },
    {
     "name": "stdout",
     "output_type": "stream",
     "text": [
      "60000/60000 [==============================] - 79s 1ms/sample - loss: 0.4941 - accuracy: 0.7813 - val_loss: 0.4541 - val_accuracy: 0.8084\n",
      "60000/60000 [==============================] - 79s 1ms/sample - loss: 0.4941 - accuracy: 0.7813 - val_loss: 0.4541 - val_accuracy: 0.8084\n"
     ]
    },
    {
     "name": "stderr",
     "output_type": "stream",
     "text": [
      "[2020-04-04 11:26:58,923] INFO: Learning rate: 0.000030\n"
     ]
    },
    {
     "name": "stdout",
     "output_type": "stream",
     "text": [
      "Epoch 56/60\n",
      "Epoch 56/60\n",
      "59968/60000 [============================>.] - ETA: 0s - loss: 0.4952 - accuracy: 0.7814WARNING:tensorflow:Can save best model only with val_acc available, skipping.\n"
     ]
    },
    {
     "name": "stderr",
     "output_type": "stream",
     "text": [
      "[2020-04-04 11:28:18,576] WARNING: Can save best model only with val_acc available, skipping.\n"
     ]
    },
    {
     "name": "stdout",
     "output_type": "stream",
     "text": [
      "60000/60000 [==============================] - 80s 1ms/sample - loss: 0.4951 - accuracy: 0.7814 - val_loss: 0.4540 - val_accuracy: 0.8085\n",
      "60000/60000 [==============================] - 80s 1ms/sample - loss: 0.4951 - accuracy: 0.7814 - val_loss: 0.4540 - val_accuracy: 0.8085\n"
     ]
    },
    {
     "name": "stderr",
     "output_type": "stream",
     "text": [
      "[2020-04-04 11:28:18,582] INFO: Learning rate: 0.000030\n"
     ]
    },
    {
     "name": "stdout",
     "output_type": "stream",
     "text": [
      "Epoch 57/60\n",
      "Epoch 57/60\n",
      "59968/60000 [============================>.] - ETA: 0s - loss: 0.4933 - accuracy: 0.7830WARNING:tensorflow:Can save best model only with val_acc available, skipping.\n"
     ]
    },
    {
     "name": "stderr",
     "output_type": "stream",
     "text": [
      "[2020-04-04 11:29:38,628] WARNING: Can save best model only with val_acc available, skipping.\n"
     ]
    },
    {
     "name": "stdout",
     "output_type": "stream",
     "text": [
      "60000/60000 [==============================] - 80s 1ms/sample - loss: 0.4934 - accuracy: 0.7829 - val_loss: 0.4543 - val_accuracy: 0.8079\n",
      "60000/60000 [==============================] - 80s 1ms/sample - loss: 0.4934 - accuracy: 0.7829 - val_loss: 0.4543 - val_accuracy: 0.8079\n"
     ]
    },
    {
     "name": "stderr",
     "output_type": "stream",
     "text": [
      "[2020-04-04 11:29:38,634] INFO: Learning rate: 0.000030\n"
     ]
    },
    {
     "name": "stdout",
     "output_type": "stream",
     "text": [
      "Epoch 58/60\n",
      "Epoch 58/60\n",
      "59968/60000 [============================>.] - ETA: 0s - loss: 0.4949 - accuracy: 0.7804WARNING:tensorflow:Can save best model only with val_acc available, skipping.\n"
     ]
    },
    {
     "name": "stderr",
     "output_type": "stream",
     "text": [
      "[2020-04-04 11:30:58,339] WARNING: Can save best model only with val_acc available, skipping.\n"
     ]
    },
    {
     "name": "stdout",
     "output_type": "stream",
     "text": [
      "60000/60000 [==============================] - 80s 1ms/sample - loss: 0.4949 - accuracy: 0.7803 - val_loss: 0.4536 - val_accuracy: 0.8083\n",
      "60000/60000 [==============================] - 80s 1ms/sample - loss: 0.4949 - accuracy: 0.7803 - val_loss: 0.4536 - val_accuracy: 0.8083\n"
     ]
    },
    {
     "name": "stderr",
     "output_type": "stream",
     "text": [
      "[2020-04-04 11:30:58,345] INFO: Learning rate: 0.000030\n"
     ]
    },
    {
     "name": "stdout",
     "output_type": "stream",
     "text": [
      "Epoch 59/60\n",
      "Epoch 59/60\n",
      "59968/60000 [============================>.] - ETA: 0s - loss: 0.4927 - accuracy: 0.7823WARNING:tensorflow:Can save best model only with val_acc available, skipping.\n"
     ]
    },
    {
     "name": "stderr",
     "output_type": "stream",
     "text": [
      "[2020-04-04 11:32:18,007] WARNING: Can save best model only with val_acc available, skipping.\n"
     ]
    },
    {
     "name": "stdout",
     "output_type": "stream",
     "text": [
      "60000/60000 [==============================] - 80s 1ms/sample - loss: 0.4926 - accuracy: 0.7823 - val_loss: 0.4543 - val_accuracy: 0.8078\n",
      "60000/60000 [==============================] - 80s 1ms/sample - loss: 0.4926 - accuracy: 0.7823 - val_loss: 0.4543 - val_accuracy: 0.8078\n"
     ]
    },
    {
     "name": "stderr",
     "output_type": "stream",
     "text": [
      "[2020-04-04 11:32:18,014] INFO: Learning rate: 0.000030\n"
     ]
    },
    {
     "name": "stdout",
     "output_type": "stream",
     "text": [
      "Epoch 60/60\n",
      "Epoch 60/60\n",
      "59968/60000 [============================>.] - ETA: 0s - loss: 0.4936 - accuracy: 0.7822WARNING:tensorflow:Can save best model only with val_acc available, skipping.\n"
     ]
    },
    {
     "name": "stderr",
     "output_type": "stream",
     "text": [
      "[2020-04-04 11:33:38,346] WARNING: Can save best model only with val_acc available, skipping.\n"
     ]
    },
    {
     "name": "stdout",
     "output_type": "stream",
     "text": [
      "60000/60000 [==============================] - 80s 1ms/sample - loss: 0.4935 - accuracy: 0.7822 - val_loss: 0.4540 - val_accuracy: 0.8080\n",
      "60000/60000 [==============================] - 80s 1ms/sample - loss: 0.4935 - accuracy: 0.7822 - val_loss: 0.4540 - val_accuracy: 0.8080\n",
      "10000/1 - 11s - loss: 0.5198 - accuracy: 0.8039\n"
     ]
    },
    {
     "data": {
      "text/plain": [
       "[0.45994441299438477, 0.8039]"
      ]
     },
     "execution_count": 31,
     "metadata": {},
     "output_type": "execute_result"
    }
   ],
   "source": [
    "# train_dataset.shuffle()\n",
    "model.fit(X_train, y_train,\n",
    "          batch_size=batch_size,\n",
    "          epochs=epochs, # --- train only for 1 epoch here for demonstration ---\n",
    "          validation_data=(X_val, y_val),\n",
    "          shuffle=True ,\n",
    "          callbacks=callbacks)\n",
    "model.evaluate(X_test,  y_test, verbose=2)"
   ]
  },
  {
   "cell_type": "code",
   "execution_count": 32,
   "metadata": {},
   "outputs": [],
   "source": [
    "model.save('./my_ParticleNet.h5')"
   ]
  },
  {
   "cell_type": "code",
   "execution_count": 33,
   "metadata": {},
   "outputs": [],
   "source": [
    "from sklearn.metrics import roc_curve, auc\n",
    "import pandas as pd\n",
    "import csv\n",
    "import matplotlib.pyplot as plt\n",
    "import pickle"
   ]
  },
  {
   "cell_type": "code",
   "execution_count": 34,
   "metadata": {},
   "outputs": [
    {
     "name": "stdout",
     "output_type": "stream",
     "text": [
      "The area under the curves are:\n",
      "AUC:0.876032040\n"
     ]
    },
    {
     "data": {
      "image/png": "[encoded data removed]",
      "text/plain": [
       "<Figure size 576x1152 with 1 Axes>"
      ]
     },
     "metadata": {
      "needs_background": "light"
     },
     "output_type": "display_data"
    }
   ],
   "source": [
    "# y_test=[i[1] for i in testpojen_datay]\n",
    "y_score=model.predict(X_test)[:,0]\n",
    "test=[i[1] for i in y_test]\n",
    "fpr , tpr , thresholds = roc_curve ( test , y_score)\n",
    "roc_auc = auc(tpr,fpr )\n",
    "print(\"The area under the curves are:\")\n",
    "print(\"AUC:{0:.9f}\".format(roc_auc))\n",
    "# FalsePositiveFull, TruePositiveFull, ThresholdFull = metrics.roc_curve(y_test,Predictions)\n",
    "plt.figure(figsize=(8,16))\n",
    "plt.subplot(2,1,1)\n",
    "\n",
    "plt.plot(tpr,fpr, label='Fully supervised: AUC={0:.9f}'.format(roc_auc))\n",
    "plt.ylabel('1-False Positive Rate',fontsize=20)\n",
    "plt.xlabel('True Positive Rate',fontsize=20)\n",
    "plt.plot([0, 1], [0, 1], 'k--')\n",
    "plt.legend(bbox_to_anchor=(0.8, -0.17),ncol=2)\n",
    "plt.tight_layout()\n",
    "plt.savefig(\"./Myneighnorhood_Particlenet_roc.png\")\n",
    "np.save(\"./myfpr\",fpr)\n",
    "np.save(\"./mytpr\",tpr)\n",
    "#plt.close()\n",
    "\n",
    "# plt.subplot(2,1,2)\n",
    "# LOSS = pd.read_csv('./training_log.csv')\n",
    "# plt.plot(LOSS[\"loss\"], label='loss',c='blue')\n",
    "# plt.plot(LOSS[\"val_loss\"], label='val_loss',c='red')\n",
    "# plt.ylabel('loss',fontsize=20)\n",
    "# plt.xlabel('epoch',fontsize=20)\n",
    "# plt.legend(bbox_to_anchor=(0.8, -0.17),ncol=2)\n",
    "# plt.tight_layout()\n",
    "\n",
    "#plt.savefig(\"./plot_3.png\")\n",
    "#plt.close()\n",
    "plt.show()"
   ]
  },
  {
   "cell_type": "code",
   "execution_count": 35,
   "metadata": {},
   "outputs": [
    {
     "data": {
      "image/png": "[encoded data removed]",
      "text/plain": [
       "<Figure size 576x576 with 1 Axes>"
      ]
     },
     "metadata": {
      "needs_background": "light"
     },
     "output_type": "display_data"
    }
   ],
   "source": [
    "plt.figure(figsize=(8,8))\n",
    "LOSS = pd.read_csv('./myparticlenet_training_log.csv')\n",
    "plt.title(\"learning_curve_batchsize_\"+str(batch_size)+\"_epochs_\"+str(epochs))\n",
    "plt.plot(LOSS[\"loss\"], label='loss',c='blue')\n",
    "plt.plot(LOSS[\"val_loss\"], label='val_loss',c='red')\n",
    "plt.plot(LOSS[\"accuracy\"], linestyle='--', label='accuracy',c='blue')\n",
    "plt.plot(LOSS[\"val_accuracy\"], linestyle='--', label='val_accuracy',c='red')\n",
    "plt.ylabel('loss',fontsize=20)\n",
    "plt.xlabel('epoch',fontsize=20)\n",
    "plt.legend(bbox_to_anchor=(0.8, -0.17),ncol=2)\n",
    "plt.tight_layout()\n",
    "plt.savefig(\"./myloss.png\")\n",
    "#plt.savefig(\"./plot_3.png\")\n",
    "#plt.close()\n",
    "plt.show()"
   ]
  },
  {
   "cell_type": "code",
   "execution_count": 37,
   "metadata": {},
   "outputs": [
    {
     "data": {
      "image/png": "[encoded data removed]",
      "text/plain": [
       "<Figure size 576x576 with 1 Axes>"
      ]
     },
     "metadata": {
      "needs_background": "light"
     },
     "output_type": "display_data"
    }
   ],
   "source": [
    "plt.figure(figsize=(8,8))\n",
    "x=[y_score[i] for i in range(len(y_score)) if y_test[i][1]!=0 ]\n",
    "y=[y_score[i] for i in range(len(y_score)) if y_test[i][1]!=1 ]\n",
    "plt.hist(x, label='gg',bins=50,alpha=0.5)\n",
    "plt.hist(y, label='qq',bins=50,alpha=0.5)\n",
    "plt.ylabel('# ',fontsize=20)\n",
    "plt.xlabel('Probability score',fontsize=20)\n",
    "plt.legend()\n",
    "plt.savefig(\"./Myneighnorhood_Particlenet_Prob.png\")\n",
    "np.save(\"./mygg\",x)\n",
    "np.save(\"./myqq\",y)"
   ]
  }
 ],
 "metadata": {
  "kernelspec": {
   "display_name": "Python 3",
   "language": "python",
   "name": "python3"
  },
  "language_info": {
   "codemirror_mode": {
    "name": "ipython",
    "version": 3
   },
   "file_extension": ".py",
   "mimetype": "text/x-python",
   "name": "python",
   "nbconvert_exporter": "python",
   "pygments_lexer": "ipython3",
   "version": "3.6.9"
  }
 },
 "nbformat": 4,
 "nbformat_minor": 4
}
